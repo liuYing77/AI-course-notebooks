{
 "cells": [
  {
   "cell_type": "markdown",
   "metadata": {},
   "source": [
    "## Boston House Price Dataset\n",
    "http://lib.stat.cmu.edu/datasets/boston The dataset was built in 1978 with 500 samples and 13 features."
   ]
  },
  {
   "cell_type": "code",
   "execution_count": 1,
   "metadata": {},
   "outputs": [
    {
     "name": "stderr",
     "output_type": "stream",
     "text": [
      "Using TensorFlow backend.\n",
      "/Users/alvinjin/anaconda3/lib/python3.6/importlib/_bootstrap.py:219: RuntimeWarning: compiletime version 3.5 of module 'tensorflow.python.framework.fast_tensor_util' does not match runtime version 3.6\n",
      "  return f(*args, **kwds)\n"
     ]
    }
   ],
   "source": [
    "from keras.datasets import boston_housing\n",
    "\n",
    "(x_train, y_train), (x_test, y_test) = boston_housing.load_data()"
   ]
  },
  {
   "cell_type": "code",
   "execution_count": 2,
   "metadata": {},
   "outputs": [
    {
     "data": {
      "text/plain": [
       "array([   1.23247,    0.     ,    8.14   ,    0.     ,    0.538  ,\n",
       "          6.142  ,   91.7    ,    3.9769 ,    4.     ,  307.     ,\n",
       "         21.     ,  396.9    ,   18.72   ])"
      ]
     },
     "execution_count": 2,
     "metadata": {},
     "output_type": "execute_result"
    }
   ],
   "source": [
    "x_train[0]"
   ]
  },
  {
   "cell_type": "code",
   "execution_count": 3,
   "metadata": {},
   "outputs": [
    {
     "data": {
      "image/png": "[encoded data removed]",
      "text/plain": [
       "<matplotlib.figure.Figure at 0x113f9b048>"
      ]
     },
     "metadata": {},
     "output_type": "display_data"
    }
   ],
   "source": [
    "import matplotlib.pyplot as plt\n",
    "\n",
    "plt.hist(y_train)\n",
    "plt.show()"
   ]
  },
  {
   "cell_type": "markdown",
   "metadata": {},
   "source": [
    "## Feature Normalization"
   ]
  },
  {
   "cell_type": "code",
   "execution_count": 4,
   "metadata": {
    "collapsed": true
   },
   "outputs": [],
   "source": [
    "mean = x_train.mean(axis=0)\n",
    "x_train -= mean\n",
    "std = x_train.std(axis=0)\n",
    "x_train /= std\n",
    "\n",
    "x_test -= mean\n",
    "x_test /= std"
   ]
  },
  {
   "cell_type": "markdown",
   "metadata": {},
   "source": [
    "## Build the neural network"
   ]
  },
  {
   "cell_type": "code",
   "execution_count": 5,
   "metadata": {
    "collapsed": true
   },
   "outputs": [],
   "source": [
    "from keras.models import Sequential\n",
    "from keras.layers import Flatten, Dense, Embedding, Dropout"
   ]
  },
  {
   "cell_type": "code",
   "execution_count": 6,
   "metadata": {
    "collapsed": true
   },
   "outputs": [],
   "source": [
    "model = Sequential()\n",
    "model.add(Dense(64, activation='relu',input_shape=(x_train.shape[1],)))\n",
    "model.add(Dense(64, activation='relu'))\n",
    "model.add(Dense(1))"
   ]
  },
  {
   "cell_type": "code",
   "execution_count": 7,
   "metadata": {
    "collapsed": true
   },
   "outputs": [],
   "source": [
    "from keras import optimizers\n",
    "model.compile(optimizer=optimizers.Adam(lr=0.001), \n",
    "              loss='mse', \n",
    "              metrics=['mae'])"
   ]
  },
  {
   "cell_type": "code",
   "execution_count": 8,
   "metadata": {},
   "outputs": [
    {
     "name": "stdout",
     "output_type": "stream",
     "text": [
      "Epoch 1/100\n",
      "404/404 [==============================] - 0s 881us/step - loss: 370.3142 - mean_absolute_error: 16.5206\n",
      "Epoch 2/100\n",
      "404/404 [==============================] - 0s 291us/step - loss: 48.8158 - mean_absolute_error: 5.0251\n",
      "Epoch 3/100\n",
      "404/404 [==============================] - 0s 294us/step - loss: 24.7741 - mean_absolute_error: 3.5556\n",
      "Epoch 4/100\n",
      "404/404 [==============================] - 0s 297us/step - loss: 18.5380 - mean_absolute_error: 3.0659\n",
      "Epoch 5/100\n",
      "404/404 [==============================] - 0s 339us/step - loss: 15.8086 - mean_absolute_error: 2.8477\n",
      "Epoch 6/100\n",
      "404/404 [==============================] - 0s 309us/step - loss: 13.9797 - mean_absolute_error: 2.6783\n",
      "Epoch 7/100\n",
      "404/404 [==============================] - 0s 329us/step - loss: 13.2289 - mean_absolute_error: 2.5780\n",
      "Epoch 8/100\n",
      "404/404 [==============================] - 0s 315us/step - loss: 11.8939 - mean_absolute_error: 2.4374\n",
      "Epoch 9/100\n",
      "404/404 [==============================] - 0s 294us/step - loss: 10.9500 - mean_absolute_error: 2.3296\n",
      "Epoch 10/100\n",
      "404/404 [==============================] - 0s 293us/step - loss: 10.8093 - mean_absolute_error: 2.3535\n",
      "Epoch 11/100\n",
      "404/404 [==============================] - ETA: 0s - loss: 10.1578 - mean_absolute_error: 2.26 - 0s 326us/step - loss: 10.3540 - mean_absolute_error: 2.2654\n",
      "Epoch 12/100\n",
      "404/404 [==============================] - 0s 332us/step - loss: 9.9958 - mean_absolute_error: 2.2345\n",
      "Epoch 13/100\n",
      "404/404 [==============================] - 0s 311us/step - loss: 9.7551 - mean_absolute_error: 2.2056\n",
      "Epoch 14/100\n",
      "404/404 [==============================] - 0s 328us/step - loss: 9.4192 - mean_absolute_error: 2.1740\n",
      "Epoch 15/100\n",
      "404/404 [==============================] - 0s 311us/step - loss: 9.1689 - mean_absolute_error: 2.1346\n",
      "Epoch 16/100\n",
      "404/404 [==============================] - 0s 294us/step - loss: 9.2163 - mean_absolute_error: 2.1527\n",
      "Epoch 17/100\n",
      "404/404 [==============================] - 0s 293us/step - loss: 8.9588 - mean_absolute_error: 2.1391\n",
      "Epoch 18/100\n",
      "404/404 [==============================] - 0s 361us/step - loss: 8.6566 - mean_absolute_error: 2.0660\n",
      "Epoch 19/100\n",
      "404/404 [==============================] - 0s 301us/step - loss: 8.6070 - mean_absolute_error: 2.0683\n",
      "Epoch 20/100\n",
      "404/404 [==============================] - 0s 319us/step - loss: 8.3566 - mean_absolute_error: 2.0535\n",
      "Epoch 21/100\n",
      "404/404 [==============================] - 0s 317us/step - loss: 7.9187 - mean_absolute_error: 1.9985\n",
      "Epoch 22/100\n",
      "404/404 [==============================] - 0s 300us/step - loss: 8.0273 - mean_absolute_error: 2.0569\n",
      "Epoch 23/100\n",
      "404/404 [==============================] - 0s 296us/step - loss: 8.1434 - mean_absolute_error: 2.0468\n",
      "Epoch 24/100\n",
      "404/404 [==============================] - 0s 363us/step - loss: 7.6416 - mean_absolute_error: 1.9790\n",
      "Epoch 25/100\n",
      "404/404 [==============================] - 0s 483us/step - loss: 7.7549 - mean_absolute_error: 1.9665\n",
      "Epoch 26/100\n",
      "404/404 [==============================] - 0s 462us/step - loss: 7.2353 - mean_absolute_error: 1.9067\n",
      "Epoch 27/100\n",
      "404/404 [==============================] - 0s 511us/step - loss: 7.3688 - mean_absolute_error: 1.9138\n",
      "Epoch 28/100\n",
      "404/404 [==============================] - 0s 345us/step - loss: 7.1173 - mean_absolute_error: 1.9195\n",
      "Epoch 29/100\n",
      "404/404 [==============================] - 0s 295us/step - loss: 7.0862 - mean_absolute_error: 1.8812\n",
      "Epoch 30/100\n",
      "404/404 [==============================] - 0s 297us/step - loss: 6.6236 - mean_absolute_error: 1.8162\n",
      "Epoch 31/100\n",
      "404/404 [==============================] - 0s 293us/step - loss: 6.9283 - mean_absolute_error: 1.8423\n",
      "Epoch 32/100\n",
      "404/404 [==============================] - 0s 297us/step - loss: 6.8956 - mean_absolute_error: 1.8723\n",
      "Epoch 33/100\n",
      "404/404 [==============================] - 0s 295us/step - loss: 6.4881 - mean_absolute_error: 1.8295\n",
      "Epoch 34/100\n",
      "404/404 [==============================] - 0s 296us/step - loss: 6.3796 - mean_absolute_error: 1.7905\n",
      "Epoch 35/100\n",
      "404/404 [==============================] - 0s 292us/step - loss: 6.3996 - mean_absolute_error: 1.8322\n",
      "Epoch 36/100\n",
      "404/404 [==============================] - 0s 295us/step - loss: 6.2706 - mean_absolute_error: 1.8072\n",
      "Epoch 37/100\n",
      "404/404 [==============================] - 0s 294us/step - loss: 6.2396 - mean_absolute_error: 1.8055\n",
      "Epoch 38/100\n",
      "404/404 [==============================] - 0s 297us/step - loss: 6.0682 - mean_absolute_error: 1.7569\n",
      "Epoch 39/100\n",
      "404/404 [==============================] - 0s 315us/step - loss: 6.2733 - mean_absolute_error: 1.7989\n",
      "Epoch 40/100\n",
      "404/404 [==============================] - 0s 308us/step - loss: 5.9594 - mean_absolute_error: 1.7343\n",
      "Epoch 41/100\n",
      "404/404 [==============================] - 0s 326us/step - loss: 5.6611 - mean_absolute_error: 1.6838\n",
      "Epoch 42/100\n",
      "404/404 [==============================] - 0s 338us/step - loss: 5.5448 - mean_absolute_error: 1.6867\n",
      "Epoch 43/100\n",
      "404/404 [==============================] - 0s 514us/step - loss: 5.7607 - mean_absolute_error: 1.7120\n",
      "Epoch 44/100\n",
      "404/404 [==============================] - 0s 556us/step - loss: 5.3883 - mean_absolute_error: 1.6463\n",
      "Epoch 45/100\n",
      "404/404 [==============================] - 0s 354us/step - loss: 5.1333 - mean_absolute_error: 1.6192\n",
      "Epoch 46/100\n",
      "404/404 [==============================] - 0s 329us/step - loss: 5.2219 - mean_absolute_error: 1.6304\n",
      "Epoch 47/100\n",
      "404/404 [==============================] - 0s 301us/step - loss: 5.2252 - mean_absolute_error: 1.6177\n",
      "Epoch 48/100\n",
      "404/404 [==============================] - 0s 554us/step - loss: 5.3026 - mean_absolute_error: 1.6396\n",
      "Epoch 49/100\n",
      "404/404 [==============================] - 0s 332us/step - loss: 5.2579 - mean_absolute_error: 1.6423\n",
      "Epoch 50/100\n",
      "404/404 [==============================] - 0s 558us/step - loss: 5.1291 - mean_absolute_error: 1.6236\n",
      "Epoch 51/100\n",
      "404/404 [==============================] - 0s 510us/step - loss: 5.1537 - mean_absolute_error: 1.6219\n",
      "Epoch 52/100\n",
      "404/404 [==============================] - 0s 303us/step - loss: 4.7113 - mean_absolute_error: 1.6016\n",
      "Epoch 53/100\n",
      "404/404 [==============================] - 0s 305us/step - loss: 4.6487 - mean_absolute_error: 1.5479\n",
      "Epoch 54/100\n",
      "404/404 [==============================] - 0s 310us/step - loss: 4.4824 - mean_absolute_error: 1.5261\n",
      "Epoch 55/100\n",
      "404/404 [==============================] - 0s 305us/step - loss: 4.6359 - mean_absolute_error: 1.5209\n",
      "Epoch 56/100\n",
      "404/404 [==============================] - 0s 317us/step - loss: 4.4968 - mean_absolute_error: 1.5128\n",
      "Epoch 57/100\n",
      "404/404 [==============================] - 0s 304us/step - loss: 4.3877 - mean_absolute_error: 1.4966\n",
      "Epoch 58/100\n",
      "404/404 [==============================] - 0s 319us/step - loss: 4.3083 - mean_absolute_error: 1.4870\n",
      "Epoch 59/100\n",
      "404/404 [==============================] - 0s 313us/step - loss: 4.3144 - mean_absolute_error: 1.4821\n",
      "Epoch 60/100\n",
      "404/404 [==============================] - 0s 311us/step - loss: 4.2718 - mean_absolute_error: 1.4643\n",
      "Epoch 61/100\n",
      "404/404 [==============================] - 0s 303us/step - loss: 4.4179 - mean_absolute_error: 1.5369\n",
      "Epoch 62/100\n",
      "404/404 [==============================] - 0s 319us/step - loss: 4.3640 - mean_absolute_error: 1.4994\n",
      "Epoch 63/100\n",
      "404/404 [==============================] - 0s 314us/step - loss: 3.9095 - mean_absolute_error: 1.4292\n",
      "Epoch 64/100\n",
      "404/404 [==============================] - 0s 419us/step - loss: 4.1919 - mean_absolute_error: 1.4632\n",
      "Epoch 65/100\n",
      "404/404 [==============================] - 0s 457us/step - loss: 3.8749 - mean_absolute_error: 1.4042\n",
      "Epoch 66/100\n",
      "404/404 [==============================] - 0s 331us/step - loss: 3.8690 - mean_absolute_error: 1.4310\n",
      "Epoch 67/100\n",
      "404/404 [==============================] - 0s 321us/step - loss: 3.9249 - mean_absolute_error: 1.4527\n",
      "Epoch 68/100\n",
      "404/404 [==============================] - 0s 361us/step - loss: 3.7643 - mean_absolute_error: 1.3968\n",
      "Epoch 69/100\n",
      "404/404 [==============================] - 0s 461us/step - loss: 3.9660 - mean_absolute_error: 1.4421\n",
      "Epoch 70/100\n",
      "404/404 [==============================] - 0s 298us/step - loss: 3.7404 - mean_absolute_error: 1.4335\n",
      "Epoch 71/100\n"
     ]
    },
    {
     "name": "stdout",
     "output_type": "stream",
     "text": [
      "404/404 [==============================] - 0s 301us/step - loss: 3.6050 - mean_absolute_error: 1.3740\n",
      "Epoch 72/100\n",
      "404/404 [==============================] - 0s 296us/step - loss: 4.3655 - mean_absolute_error: 1.5356\n",
      "Epoch 73/100\n",
      "404/404 [==============================] - 0s 303us/step - loss: 3.5841 - mean_absolute_error: 1.4157\n",
      "Epoch 74/100\n",
      "404/404 [==============================] - 0s 417us/step - loss: 3.3448 - mean_absolute_error: 1.3490\n",
      "Epoch 75/100\n",
      "404/404 [==============================] - 0s 313us/step - loss: 3.5107 - mean_absolute_error: 1.3633\n",
      "Epoch 76/100\n",
      "404/404 [==============================] - 0s 300us/step - loss: 3.5375 - mean_absolute_error: 1.3798\n",
      "Epoch 77/100\n",
      "404/404 [==============================] - 0s 303us/step - loss: 3.2573 - mean_absolute_error: 1.2736\n",
      "Epoch 78/100\n",
      "404/404 [==============================] - 0s 304us/step - loss: 3.2281 - mean_absolute_error: 1.3314\n",
      "Epoch 79/100\n",
      "404/404 [==============================] - 0s 304us/step - loss: 3.2524 - mean_absolute_error: 1.3070\n",
      "Epoch 80/100\n",
      "404/404 [==============================] - 0s 302us/step - loss: 3.2658 - mean_absolute_error: 1.2741\n",
      "Epoch 81/100\n",
      "404/404 [==============================] - 0s 298us/step - loss: 3.4444 - mean_absolute_error: 1.3526\n",
      "Epoch 82/100\n",
      "404/404 [==============================] - 0s 307us/step - loss: 3.4134 - mean_absolute_error: 1.3667\n",
      "Epoch 83/100\n",
      "404/404 [==============================] - 0s 308us/step - loss: 3.3375 - mean_absolute_error: 1.3478\n",
      "Epoch 84/100\n",
      "404/404 [==============================] - 0s 336us/step - loss: 3.1370 - mean_absolute_error: 1.2707\n",
      "Epoch 85/100\n",
      "404/404 [==============================] - 0s 306us/step - loss: 3.1852 - mean_absolute_error: 1.3208\n",
      "Epoch 86/100\n",
      "404/404 [==============================] - 0s 321us/step - loss: 2.9941 - mean_absolute_error: 1.2435\n",
      "Epoch 87/100\n",
      "404/404 [==============================] - 0s 334us/step - loss: 3.1100 - mean_absolute_error: 1.2803\n",
      "Epoch 88/100\n",
      "404/404 [==============================] - 0s 331us/step - loss: 3.3050 - mean_absolute_error: 1.3147\n",
      "Epoch 89/100\n",
      "404/404 [==============================] - 0s 335us/step - loss: 2.7900 - mean_absolute_error: 1.2090\n",
      "Epoch 90/100\n",
      "404/404 [==============================] - 0s 331us/step - loss: 3.0813 - mean_absolute_error: 1.2950\n",
      "Epoch 91/100\n",
      "404/404 [==============================] - 0s 527us/step - loss: 2.8649 - mean_absolute_error: 1.2141\n",
      "Epoch 92/100\n",
      "404/404 [==============================] - 0s 430us/step - loss: 2.9705 - mean_absolute_error: 1.2588\n",
      "Epoch 93/100\n",
      "404/404 [==============================] - 0s 439us/step - loss: 2.7614 - mean_absolute_error: 1.1864\n",
      "Epoch 94/100\n",
      "404/404 [==============================] - 0s 297us/step - loss: 2.8499 - mean_absolute_error: 1.2405\n",
      "Epoch 95/100\n",
      "404/404 [==============================] - 0s 283us/step - loss: 2.8862 - mean_absolute_error: 1.2315\n",
      "Epoch 96/100\n",
      "404/404 [==============================] - 0s 282us/step - loss: 2.9452 - mean_absolute_error: 1.2493\n",
      "Epoch 97/100\n",
      "404/404 [==============================] - 0s 304us/step - loss: 3.0054 - mean_absolute_error: 1.2431\n",
      "Epoch 98/100\n",
      "404/404 [==============================] - 0s 309us/step - loss: 2.5013 - mean_absolute_error: 1.1831\n",
      "Epoch 99/100\n",
      "404/404 [==============================] - 0s 318us/step - loss: 2.6357 - mean_absolute_error: 1.1963\n",
      "Epoch 100/100\n",
      "404/404 [==============================] - 0s 303us/step - loss: 2.5063 - mean_absolute_error: 1.1266\n"
     ]
    }
   ],
   "source": [
    "history = model.fit(x_train, y_train,\n",
    "                    epochs=100,\n",
    "                    batch_size=4\n",
    "                   )"
   ]
  },
  {
   "cell_type": "code",
   "execution_count": 9,
   "metadata": {},
   "outputs": [
    {
     "name": "stdout",
     "output_type": "stream",
     "text": [
      "102/102 [==============================] - 0s 181us/step\n"
     ]
    },
    {
     "data": {
      "text/plain": [
       "[11.702928430893841, 2.3354350351819804]"
      ]
     },
     "execution_count": 9,
     "metadata": {},
     "output_type": "execute_result"
    }
   ],
   "source": [
    "model.evaluate(x_test, y_test)"
   ]
  }
 ],
 "metadata": {
  "kernelspec": {
   "display_name": "Python 3",
   "language": "python",
   "name": "python3"
  },
  "language_info": {
   "codemirror_mode": {
    "name": "ipython",
    "version": 3
   },
   "file_extension": ".py",
   "mimetype": "text/x-python",
   "name": "python",
   "nbconvert_exporter": "python",
   "pygments_lexer": "ipython3",
   "version": "3.6.3"
  }
 },
 "nbformat": 4,
 "nbformat_minor": 2
}
