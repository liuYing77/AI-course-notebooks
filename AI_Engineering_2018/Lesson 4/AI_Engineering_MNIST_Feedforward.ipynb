{
 "cells": [
  {
   "cell_type": "markdown",
   "metadata": {},
   "source": [
    "## Load MNIST data from Keras\n",
    "Images are ecoded as Numpy arrays"
   ]
  },
  {
   "cell_type": "code",
   "execution_count": 1,
   "metadata": {},
   "outputs": [
    {
     "name": "stderr",
     "output_type": "stream",
     "text": [
      "Using TensorFlow backend.\n",
      "/Users/alvinjin/anaconda3/lib/python3.6/importlib/_bootstrap.py:219: RuntimeWarning: compiletime version 3.5 of module 'tensorflow.python.framework.fast_tensor_util' does not match runtime version 3.6\n",
      "  return f(*args, **kwds)\n"
     ]
    }
   ],
   "source": [
    "import keras\n",
    "from keras.datasets import mnist"
   ]
  },
  {
   "cell_type": "code",
   "execution_count": 2,
   "metadata": {},
   "outputs": [
    {
     "name": "stdout",
     "output_type": "stream",
     "text": [
      "Training Dataset Shape: (60000, 28, 28)\n",
      "The first training image's label: 5\n",
      "The first training image:\n",
      " [[  0   0   0   0   0   0   0   0   0   0   0   0   0   0   0   0   0   0\n",
      "    0   0   0   0   0   0   0   0   0   0]\n",
      " [  0   0   0   0   0   0   0   0   0   0   0   0   0   0   0   0   0   0\n",
      "    0   0   0   0   0   0   0   0   0   0]\n",
      " [  0   0   0   0   0   0   0   0   0   0   0   0   0   0   0   0   0   0\n",
      "    0   0   0   0   0   0   0   0   0   0]\n",
      " [  0   0   0   0   0   0   0   0   0   0   0   0   0   0   0   0   0   0\n",
      "    0   0   0   0   0   0   0   0   0   0]\n",
      " [  0   0   0   0   0   0   0   0   0   0   0   0   0   0   0   0   0   0\n",
      "    0   0   0   0   0   0   0   0   0   0]\n",
      " [  0   0   0   0   0   0   0   0   0   0   0   0   3  18  18  18 126 136\n",
      "  175  26 166 255 247 127   0   0   0   0]\n",
      " [  0   0   0   0   0   0   0   0  30  36  94 154 170 253 253 253 253 253\n",
      "  225 172 253 242 195  64   0   0   0   0]\n",
      " [  0   0   0   0   0   0   0  49 238 253 253 253 253 253 253 253 253 251\n",
      "   93  82  82  56  39   0   0   0   0   0]\n",
      " [  0   0   0   0   0   0   0  18 219 253 253 253 253 253 198 182 247 241\n",
      "    0   0   0   0   0   0   0   0   0   0]\n",
      " [  0   0   0   0   0   0   0   0  80 156 107 253 253 205  11   0  43 154\n",
      "    0   0   0   0   0   0   0   0   0   0]\n",
      " [  0   0   0   0   0   0   0   0   0  14   1 154 253  90   0   0   0   0\n",
      "    0   0   0   0   0   0   0   0   0   0]\n",
      " [  0   0   0   0   0   0   0   0   0   0   0 139 253 190   2   0   0   0\n",
      "    0   0   0   0   0   0   0   0   0   0]\n",
      " [  0   0   0   0   0   0   0   0   0   0   0  11 190 253  70   0   0   0\n",
      "    0   0   0   0   0   0   0   0   0   0]\n",
      " [  0   0   0   0   0   0   0   0   0   0   0   0  35 241 225 160 108   1\n",
      "    0   0   0   0   0   0   0   0   0   0]\n",
      " [  0   0   0   0   0   0   0   0   0   0   0   0   0  81 240 253 253 119\n",
      "   25   0   0   0   0   0   0   0   0   0]\n",
      " [  0   0   0   0   0   0   0   0   0   0   0   0   0   0  45 186 253 253\n",
      "  150  27   0   0   0   0   0   0   0   0]\n",
      " [  0   0   0   0   0   0   0   0   0   0   0   0   0   0   0  16  93 252\n",
      "  253 187   0   0   0   0   0   0   0   0]\n",
      " [  0   0   0   0   0   0   0   0   0   0   0   0   0   0   0   0   0 249\n",
      "  253 249  64   0   0   0   0   0   0   0]\n",
      " [  0   0   0   0   0   0   0   0   0   0   0   0   0   0  46 130 183 253\n",
      "  253 207   2   0   0   0   0   0   0   0]\n",
      " [  0   0   0   0   0   0   0   0   0   0   0   0  39 148 229 253 253 253\n",
      "  250 182   0   0   0   0   0   0   0   0]\n",
      " [  0   0   0   0   0   0   0   0   0   0  24 114 221 253 253 253 253 201\n",
      "   78   0   0   0   0   0   0   0   0   0]\n",
      " [  0   0   0   0   0   0   0   0  23  66 213 253 253 253 253 198  81   2\n",
      "    0   0   0   0   0   0   0   0   0   0]\n",
      " [  0   0   0   0   0   0  18 171 219 253 253 253 253 195  80   9   0   0\n",
      "    0   0   0   0   0   0   0   0   0   0]\n",
      " [  0   0   0   0  55 172 226 253 253 253 253 244 133  11   0   0   0   0\n",
      "    0   0   0   0   0   0   0   0   0   0]\n",
      " [  0   0   0   0 136 253 253 253 212 135 132  16   0   0   0   0   0   0\n",
      "    0   0   0   0   0   0   0   0   0   0]\n",
      " [  0   0   0   0   0   0   0   0   0   0   0   0   0   0   0   0   0   0\n",
      "    0   0   0   0   0   0   0   0   0   0]\n",
      " [  0   0   0   0   0   0   0   0   0   0   0   0   0   0   0   0   0   0\n",
      "    0   0   0   0   0   0   0   0   0   0]\n",
      " [  0   0   0   0   0   0   0   0   0   0   0   0   0   0   0   0   0   0\n",
      "    0   0   0   0   0   0   0   0   0   0]]\n"
     ]
    }
   ],
   "source": [
    "(train_images, train_labels), (test_images, test_labels) = mnist.load_data()\n",
    "\n",
    "print(\"Training Dataset Shape: {}\".format(train_images.shape))\n",
    "print(\"The first training image's label: {}\".format(train_labels[0]))\n",
    "print(\"The first training image:\\n {}\".format(train_images[0]))\n"
   ]
  },
  {
   "cell_type": "markdown",
   "metadata": {},
   "source": [
    "## First 4 samples in Test dataset"
   ]
  },
  {
   "cell_type": "code",
   "execution_count": 3,
   "metadata": {},
   "outputs": [
    {
     "data": {
      "image/png": "[encoded data removed]",
      "text/plain": [
       "<matplotlib.figure.Figure at 0x11b7d8a20>"
      ]
     },
     "metadata": {},
     "output_type": "display_data"
    }
   ],
   "source": [
    "import matplotlib.pyplot as plt\n",
    "# plot 4 images as gray scale\n",
    "plt.subplot(221)\n",
    "plt.imshow(test_images[0], cmap='gray')\n",
    "plt.subplot(222)\n",
    "plt.imshow(test_images[1], cmap='gray')\n",
    "plt.subplot(223)\n",
    "plt.imshow(test_images[2], cmap='gray')\n",
    "plt.subplot(224)\n",
    "plt.imshow(test_images[3], cmap='gray')\n",
    "# show the plot\n",
    "plt.show()"
   ]
  },
  {
   "cell_type": "markdown",
   "metadata": {},
   "source": [
    "# Data Preprocessing"
   ]
  },
  {
   "cell_type": "markdown",
   "metadata": {},
   "source": [
    "## 1. Normalize/Scale data\n",
    "\n",
    "For a multi-layer feedforward model we must reduce the images down into a vector of pixels. \n",
    "Reshape data by flattening 28x28 images to a 1x784 vector for each image.\n",
    "\n",
    "The pixel values are gray scale between 0 and 255. Normalize it to [0, 1] range by dividing 255."
   ]
  },
  {
   "cell_type": "code",
   "execution_count": 4,
   "metadata": {
    "collapsed": true
   },
   "outputs": [],
   "source": [
    "train_images = train_images.reshape((train_images.shape[0], 28*28))\n",
    "train_images = train_images.astype('float32')/255\n",
    "\n",
    "val_images = train_images[:5000]\n",
    "train_images = train_images[5000:]\n",
    "\n",
    "test_images = test_images.reshape((test_images.shape[0], 28*28))\n",
    "test_images = test_images.astype('float32')/255"
   ]
  },
  {
   "cell_type": "markdown",
   "metadata": {},
   "source": [
    "## 2. One-hot-encoding on Labels\n",
    "It is good practice to use a one-hot-encoding of the class values, transforming the vector of class integers into a binary matrix."
   ]
  },
  {
   "cell_type": "code",
   "execution_count": 5,
   "metadata": {},
   "outputs": [
    {
     "name": "stdout",
     "output_type": "stream",
     "text": [
      "The First 10 Training Labels:\n",
      " [7 2 1 0 4 1 4 9 5 9]\n",
      "After encoding:\n",
      " [[ 0.  0.  0.  0.  0.  0.  0.  1.  0.  0.]\n",
      " [ 0.  0.  1.  0.  0.  0.  0.  0.  0.  0.]\n",
      " [ 0.  1.  0.  0.  0.  0.  0.  0.  0.  0.]\n",
      " [ 1.  0.  0.  0.  0.  0.  0.  0.  0.  0.]\n",
      " [ 0.  0.  0.  0.  1.  0.  0.  0.  0.  0.]\n",
      " [ 0.  1.  0.  0.  0.  0.  0.  0.  0.  0.]\n",
      " [ 0.  0.  0.  0.  1.  0.  0.  0.  0.  0.]\n",
      " [ 0.  0.  0.  0.  0.  0.  0.  0.  0.  1.]\n",
      " [ 0.  0.  0.  0.  0.  1.  0.  0.  0.  0.]\n",
      " [ 0.  0.  0.  0.  0.  0.  0.  0.  0.  1.]]\n"
     ]
    }
   ],
   "source": [
    "from keras.utils import to_categorical\n",
    "\n",
    "print(\"The First 10 Training Labels:\\n {}\".format(test_labels[:10]))\n",
    "\n",
    "train_labels = to_categorical(train_labels)\n",
    "\n",
    "# Split Validataion set from training set\n",
    "val_labels = train_labels[:5000]\n",
    "train_labels = train_labels[5000:]\n",
    "\n",
    "test_labels = to_categorical(test_labels)\n",
    "\n",
    "print(\"After encoding:\\n {}\".format(test_labels[:10]))"
   ]
  },
  {
   "cell_type": "markdown",
   "metadata": {},
   "source": [
    "## Build a Feed-forward Neural Network"
   ]
  },
  {
   "cell_type": "code",
   "execution_count": 6,
   "metadata": {
    "collapsed": true
   },
   "outputs": [],
   "source": [
    "from keras import models\n",
    "from keras import layers\n",
    "\n",
    "model = models.Sequential()"
   ]
  },
  {
   "cell_type": "markdown",
   "metadata": {},
   "source": [
    "The input layer consists 28*28=784 neurons"
   ]
  },
  {
   "cell_type": "code",
   "execution_count": 7,
   "metadata": {
    "collapsed": true
   },
   "outputs": [],
   "source": [
    "model.add(layers.Dense(units=500, activation='sigmoid', input_shape=(28*28,)))"
   ]
  },
  {
   "cell_type": "code",
   "execution_count": 8,
   "metadata": {},
   "outputs": [
    {
     "name": "stdout",
     "output_type": "stream",
     "text": [
      "(None, 500)\n"
     ]
    }
   ],
   "source": [
    "print(model.output_shape)"
   ]
  },
  {
   "cell_type": "markdown",
   "metadata": {},
   "source": [
    "The output layer consists of 10 neurons since we want to classify digits into 10 classes (0 to 9)"
   ]
  },
  {
   "cell_type": "code",
   "execution_count": 9,
   "metadata": {
    "collapsed": true
   },
   "outputs": [],
   "source": [
    "model.add(layers.Dense(units=10, activation='softmax'))"
   ]
  },
  {
   "cell_type": "code",
   "execution_count": 10,
   "metadata": {},
   "outputs": [
    {
     "name": "stdout",
     "output_type": "stream",
     "text": [
      "(None, 10)\n"
     ]
    }
   ],
   "source": [
    "print(model.output_shape)"
   ]
  },
  {
   "cell_type": "code",
   "execution_count": 11,
   "metadata": {
    "collapsed": true
   },
   "outputs": [],
   "source": [
    "from keras import optimizers\n",
    "\n",
    "model.compile(optimizer=optimizers.RMSprop(lr=0.001),\n",
    "           loss='categorical_crossentropy',\n",
    "           metrics=['accuracy']\n",
    "          )"
   ]
  },
  {
   "cell_type": "markdown",
   "metadata": {},
   "source": [
    "## Start Neural Network Training"
   ]
  },
  {
   "cell_type": "code",
   "execution_count": 12,
   "metadata": {},
   "outputs": [
    {
     "name": "stdout",
     "output_type": "stream",
     "text": [
      "Train on 55000 samples, validate on 5000 samples\n",
      "Epoch 1/20\n",
      " - 5s - loss: 0.4346 - acc: 0.8823 - val_loss: 0.2608 - val_acc: 0.9236\n",
      "Epoch 2/20\n",
      " - 5s - loss: 0.2443 - acc: 0.9285 - val_loss: 0.1958 - val_acc: 0.9444\n",
      "Epoch 3/20\n",
      " - 6s - loss: 0.1883 - acc: 0.9451 - val_loss: 0.1585 - val_acc: 0.9554\n",
      "Epoch 4/20\n",
      " - 6s - loss: 0.1499 - acc: 0.9562 - val_loss: 0.1346 - val_acc: 0.9614\n",
      "Epoch 5/20\n",
      " - 6s - loss: 0.1218 - acc: 0.9649 - val_loss: 0.1141 - val_acc: 0.9658\n",
      "Epoch 6/20\n",
      " - 6s - loss: 0.1006 - acc: 0.9706 - val_loss: 0.1080 - val_acc: 0.9678\n",
      "Epoch 7/20\n",
      " - 5s - loss: 0.0857 - acc: 0.9753 - val_loss: 0.0958 - val_acc: 0.9702\n",
      "Epoch 8/20\n",
      " - 5s - loss: 0.0730 - acc: 0.9789 - val_loss: 0.0921 - val_acc: 0.9718\n",
      "Epoch 9/20\n",
      " - 6s - loss: 0.0632 - acc: 0.9815 - val_loss: 0.0766 - val_acc: 0.9766\n",
      "Epoch 10/20\n",
      " - 6s - loss: 0.0548 - acc: 0.9845 - val_loss: 0.0740 - val_acc: 0.9782\n",
      "Epoch 11/20\n",
      " - 6s - loss: 0.0478 - acc: 0.9862 - val_loss: 0.0755 - val_acc: 0.9768\n",
      "Epoch 12/20\n",
      " - 6s - loss: 0.0417 - acc: 0.9882 - val_loss: 0.0709 - val_acc: 0.9796\n",
      "Epoch 13/20\n",
      " - 6s - loss: 0.0369 - acc: 0.9897 - val_loss: 0.0661 - val_acc: 0.9788\n",
      "Epoch 14/20\n",
      " - 6s - loss: 0.0322 - acc: 0.9911 - val_loss: 0.0659 - val_acc: 0.9786\n",
      "Epoch 15/20\n",
      " - 6s - loss: 0.0279 - acc: 0.9925 - val_loss: 0.0628 - val_acc: 0.9802\n",
      "Epoch 16/20\n",
      " - 5s - loss: 0.0244 - acc: 0.9939 - val_loss: 0.0593 - val_acc: 0.9812\n",
      "Epoch 17/20\n",
      " - 5s - loss: 0.0212 - acc: 0.9946 - val_loss: 0.0698 - val_acc: 0.9778\n",
      "Epoch 18/20\n",
      " - 6s - loss: 0.0185 - acc: 0.9952 - val_loss: 0.0638 - val_acc: 0.9794\n",
      "Epoch 19/20\n",
      " - 6s - loss: 0.0162 - acc: 0.9963 - val_loss: 0.0611 - val_acc: 0.9800\n",
      "Epoch 20/20\n",
      " - 5s - loss: 0.0140 - acc: 0.9969 - val_loss: 0.0601 - val_acc: 0.9816\n"
     ]
    }
   ],
   "source": [
    "history = model.fit(\n",
    "    train_images, \n",
    "    train_labels,\n",
    "    epochs=20,\n",
    "    batch_size=128,\n",
    "    validation_data=(val_images, val_labels),\n",
    "    verbose=2\n",
    "    )"
   ]
  },
  {
   "cell_type": "code",
   "execution_count": 13,
   "metadata": {},
   "outputs": [
    {
     "name": "stdout",
     "output_type": "stream",
     "text": [
      "_________________________________________________________________\n",
      "Layer (type)                 Output Shape              Param #   \n",
      "=================================================================\n",
      "dense_1 (Dense)              (None, 500)               392500    \n",
      "_________________________________________________________________\n",
      "dense_2 (Dense)              (None, 10)                5010      \n",
      "=================================================================\n",
      "Total params: 397,510\n",
      "Trainable params: 397,510\n",
      "Non-trainable params: 0\n",
      "_________________________________________________________________\n"
     ]
    }
   ],
   "source": [
    "model.summary()"
   ]
  },
  {
   "cell_type": "markdown",
   "metadata": {},
   "source": [
    "## Evaluation and Test"
   ]
  },
  {
   "cell_type": "code",
   "execution_count": 14,
   "metadata": {},
   "outputs": [
    {
     "name": "stdout",
     "output_type": "stream",
     "text": [
      "10000/10000 [==============================] - 1s 143us/step\n",
      "Test Accuracy: 0.9802\n"
     ]
    }
   ],
   "source": [
    "(loss, accuracy) = model.evaluate(test_images, test_labels)\n",
    "\n",
    "print(\"Test Accuracy: {}\".format(accuracy))"
   ]
  },
  {
   "cell_type": "code",
   "execution_count": 15,
   "metadata": {},
   "outputs": [
    {
     "name": "stdout",
     "output_type": "stream",
     "text": [
      "Predicted Classes:\n",
      " [7 2 1 0]\n",
      "Predicted Probabilities:\n",
      " [[  1.51097512e-09   3.89613689e-11   1.61077182e-07   1.39918076e-04\n",
      "    1.88850727e-10   4.48745929e-09   3.30758099e-14   9.99858856e-01\n",
      "    9.04090314e-08   1.00180671e-06]\n",
      " [  1.05645104e-09   4.08471033e-06   9.99995828e-01   1.18379667e-07\n",
      "    7.93736946e-16   1.25857706e-08   3.23344618e-09   5.28637921e-16\n",
      "    1.78487589e-08   2.93990398e-14]\n",
      " [  4.79908821e-11   9.99768913e-01   1.05704185e-05   1.80850600e-06\n",
      "    2.37822846e-07   6.88478281e-07   9.10985023e-07   2.44428375e-05\n",
      "    1.92398482e-04   8.12274976e-08]\n",
      " [  9.99942303e-01   4.61424996e-08   4.36380378e-06   4.87229215e-07\n",
      "    4.69030329e-06   1.31395339e-07   1.49256957e-05   1.00971602e-05\n",
      "    8.27289437e-09   2.30121186e-05]]\n"
     ]
    }
   ],
   "source": [
    "preds = model.predict_classes(test_images[:4])\n",
    "probs = model.predict_proba(test_images[:4])\n",
    "\n",
    "print(\"Predicted Classes:\\n {}\".format(preds))\n",
    "print(\"Predicted Probabilities:\\n {}\".format(probs))"
   ]
  },
  {
   "cell_type": "code",
   "execution_count": 16,
   "metadata": {},
   "outputs": [
    {
     "data": {
      "image/png": "[encoded data removed]",
      "text/plain": [
       "<matplotlib.figure.Figure at 0x13396ebe0>"
      ]
     },
     "metadata": {},
     "output_type": "display_data"
    }
   ],
   "source": [
    "import matplotlib.pyplot as plt\n",
    "loss = history.history['loss']\n",
    "val_loss = history.history['val_loss']\n",
    "\n",
    "epochs = range(1, len(loss) + 1)\n",
    "\n",
    "plt.figure()\n",
    "\n",
    "plt.plot(epochs, loss, 'bo', label='Training loss')\n",
    "plt.plot(epochs, val_loss, 'b', label='Validation loss')\n",
    "plt.title('Training and Validation loss')\n",
    "plt.legend()\n",
    "\n",
    "plt.show()"
   ]
  },
  {
   "cell_type": "code",
   "execution_count": 17,
   "metadata": {},
   "outputs": [
    {
     "data": {
      "image/png": "[encoded data removed]",
      "text/plain": [
       "<matplotlib.figure.Figure at 0x13397ac18>"
      ]
     },
     "metadata": {},
     "output_type": "display_data"
    }
   ],
   "source": [
    "acc = history.history['acc']\n",
    "val_acc = history.history['val_acc']\n",
    "\n",
    "epochs = range(1, len(acc) + 1)\n",
    "\n",
    "plt.figure()\n",
    "\n",
    "plt.plot(epochs, acc, 'bo', label='Training Accuracy')\n",
    "plt.plot(epochs, val_acc, 'b', label='Validation Accuracy')\n",
    "plt.title('Training and validation Accuracy')\n",
    "plt.legend()\n",
    "\n",
    "plt.show()"
   ]
  },
  {
   "cell_type": "code",
   "execution_count": null,
   "metadata": {
    "collapsed": true
   },
   "outputs": [],
   "source": []
  }
 ],
 "metadata": {
  "kernelspec": {
   "display_name": "Python 3",
   "language": "python",
   "name": "python3"
  },
  "language_info": {
   "codemirror_mode": {
    "name": "ipython",
    "version": 3
   },
   "file_extension": ".py",
   "mimetype": "text/x-python",
   "name": "python",
   "nbconvert_exporter": "python",
   "pygments_lexer": "ipython3",
   "version": "3.6.5"
  }
 },
 "nbformat": 4,
 "nbformat_minor": 2
}
