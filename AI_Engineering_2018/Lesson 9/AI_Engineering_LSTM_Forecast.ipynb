{
 "cells": [
  {
   "cell_type": "markdown",
   "metadata": {},
   "source": [
    "## Load Dataset\n",
    "\n",
    "Numerical timeseries dataset with 14 weather features are recorded from 2009-2016. The weather record is generated every 10mins.\n",
    "\n",
    "https://s3.amazonaws.com/keras-datasets/jena_climate_2009_2016.csv.zip"
   ]
  },
  {
   "cell_type": "code",
   "execution_count": 1,
   "metadata": {},
   "outputs": [],
   "source": [
    "import os\n",
    "\n",
    "fname = os.path.join('./data/', 'jena_climate_2009_2016.csv')\n",
    "\n",
    "f = open(fname)\n",
    "data = f.read()\n",
    "f.close()"
   ]
  },
  {
   "cell_type": "markdown",
   "metadata": {},
   "source": [
    "## Parse header and records"
   ]
  },
  {
   "cell_type": "code",
   "execution_count": 2,
   "metadata": {},
   "outputs": [
    {
     "name": "stdout",
     "output_type": "stream",
     "text": [
      "['Date Time', 'p (mbar)', 'T (degC)', 'Tpot (K)', 'Tdew (degC)', 'rh (%)', 'VPmax (mbar)', 'VPact (mbar)', 'VPdef (mbar)', 'sh (g/kg)', 'H2OC (mmol/mol)', 'rho (g/m**3)', 'wv (m/s)', 'max. wv (m/s)', 'wd (deg)']\n",
      "\n",
      "Number of record: 420551\n"
     ]
    }
   ],
   "source": [
    "lines = data.split('\\n')\n",
    "header = lines[0].replace('\"','').split(',')\n",
    "lines = lines[1:]\n",
    "num_records = len(lines)\n",
    "\n",
    "print(header)\n",
    "print(\"\\nNumber of record: {}\".format(num_records))"
   ]
  },
  {
   "cell_type": "markdown",
   "metadata": {},
   "source": [
    "## Load Records into Numpy Array"
   ]
  },
  {
   "cell_type": "code",
   "execution_count": 3,
   "metadata": {},
   "outputs": [
    {
     "data": {
      "text/plain": [
       "array([[ 9.9652e+02, -8.0200e+00,  2.6540e+02, ...,  1.0300e+00,\n",
       "         1.7500e+00,  1.5230e+02],\n",
       "       [ 9.9657e+02, -8.4100e+00,  2.6501e+02, ...,  7.2000e-01,\n",
       "         1.5000e+00,  1.3610e+02],\n",
       "       [ 9.9653e+02, -8.5100e+00,  2.6491e+02, ...,  1.9000e-01,\n",
       "         6.3000e-01,  1.7160e+02],\n",
       "       ...,\n",
       "       [ 9.9982e+02, -3.1600e+00,  2.7001e+02, ...,  1.0800e+00,\n",
       "         2.0000e+00,  2.1520e+02],\n",
       "       [ 9.9981e+02, -4.2300e+00,  2.6894e+02, ...,  1.4900e+00,\n",
       "         2.1600e+00,  2.2580e+02],\n",
       "       [ 9.9982e+02, -4.8200e+00,  2.6836e+02, ...,  1.2300e+00,\n",
       "         1.9600e+00,  1.8490e+02]])"
      ]
     },
     "execution_count": 3,
     "metadata": {},
     "output_type": "execute_result"
    }
   ],
   "source": [
    "import numpy as np\n",
    "\n",
    "#Ignore the first column, which is datetime\n",
    "float_data = np.zeros((num_records, len(header) - 1))\n",
    "\n",
    "for i, line in enumerate(lines):\n",
    "    values = [float(x) for x in line.split(',')[1:]]\n",
    "    float_data[i, :] = values\n",
    "\n",
    "float_data"
   ]
  },
  {
   "cell_type": "markdown",
   "metadata": {},
   "source": [
    "## The yearly periodicity of temperature changes"
   ]
  },
  {
   "cell_type": "code",
   "execution_count": 4,
   "metadata": {},
   "outputs": [
    {
     "data": {
      "text/plain": [
       "<Figure size 640x480 with 1 Axes>"
      ]
     },
     "metadata": {},
     "output_type": "display_data"
    }
   ],
   "source": [
    "from matplotlib import pyplot as plt\n",
    "\n",
    "temp = float_data[:, 1]  # temperature\n",
    "plt.plot(range(len(temp)), temp)\n",
    "plt.show()"
   ]
  },
  {
   "cell_type": "markdown",
   "metadata": {},
   "source": [
    "## First 10 days"
   ]
  },
  {
   "cell_type": "code",
   "execution_count": 5,
   "metadata": {},
   "outputs": [
    {
     "data": {
      "image/png": "[encoded data removed]",
      "text/plain": [
       "<Figure size 432x288 with 1 Axes>"
      ]
     },
     "metadata": {},
     "output_type": "display_data"
    }
   ],
   "source": [
    "plt.plot(range(1440), temp[:1440])\n",
    "plt.show()"
   ]
  },
  {
   "cell_type": "markdown",
   "metadata": {},
   "source": [
    "## Normalize the input dataset"
   ]
  },
  {
   "cell_type": "code",
   "execution_count": 6,
   "metadata": {},
   "outputs": [
    {
     "name": "stdout",
     "output_type": "stream",
     "text": [
      "Temperature Std: 8.480433884862078\n"
     ]
    }
   ],
   "source": [
    "mean = float_data[:200000].mean(axis=0)\n",
    "float_data -= mean\n",
    "std = float_data[:200000].std(axis=0)\n",
    "float_data /= std\n",
    "print(\"Temperature Std: {}\".format(std[0]))"
   ]
  },
  {
   "cell_type": "code",
   "execution_count": 7,
   "metadata": {},
   "outputs": [],
   "source": [
    "def generator(data, lookback, delay, min_index, max_index,\n",
    "              shuffle=False, batch_size=128, step=6):\n",
    "    \n",
    "    if max_index is None:\n",
    "        max_index = len(data) - delay - 1\n",
    "    \n",
    "    i = min_index + lookback\n",
    "    while 1:\n",
    "        if shuffle:\n",
    "            rows = np.random.randint(min_index + lookback, max_index, size=batch_size)\n",
    "        else:\n",
    "            if i + batch_size >= max_index:\n",
    "                i = min_index + lookback\n",
    "            rows = np.arange(i, min(i + batch_size, max_index))\n",
    "            i += len(rows)\n",
    "\n",
    "        samples = np.zeros((\n",
    "                            len(rows),\n",
    "                            lookback // step,\n",
    "                            data.shape[-1]\n",
    "                            ))\n",
    "        \n",
    "        targets = np.zeros((len(rows),))\n",
    "        \n",
    "        for j, row in enumerate(rows):\n",
    "            indices = range(rows[j] - lookback, rows[j], step)\n",
    "            samples[j] = data[indices]\n",
    "            targets[j] = data[rows[j] + delay][1]\n",
    "        yield samples, targets"
   ]
  },
  {
   "cell_type": "markdown",
   "metadata": {},
   "source": [
    "lookback = 720, i.e. our observations will go back 5 days.\n",
    "steps = 6, i.e. our observations will be sampled at one data point per hour.\n",
    "delay = 144, i.e. our targets will be 24 hours in the future.\n"
   ]
  },
  {
   "cell_type": "code",
   "execution_count": 8,
   "metadata": {},
   "outputs": [],
   "source": [
    "lookback = 1440\n",
    "step = 6\n",
    "delay = 144\n",
    "batch_size = 128\n",
    "\n",
    "train_gen = generator(float_data,\n",
    "                      lookback=lookback,\n",
    "                      delay=delay,\n",
    "                      min_index=0,\n",
    "                      max_index=200000,\n",
    "                      shuffle=True,\n",
    "                      step=step, \n",
    "                      batch_size=batch_size)\n",
    "\n",
    "val_gen = generator(float_data,\n",
    "                    lookback=lookback,\n",
    "                    delay=delay,\n",
    "                    min_index=200001,\n",
    "                    max_index=300000,\n",
    "                    step=step,\n",
    "                    batch_size=batch_size)\n",
    "\n",
    "test_gen = generator(float_data,\n",
    "                     lookback=lookback,\n",
    "                     delay=delay,\n",
    "                     min_index=300001,\n",
    "                     max_index=None,\n",
    "                     step=step,\n",
    "                     batch_size=batch_size)\n",
    "\n",
    "# This is how many steps to draw from `val_gen`\n",
    "# in order to see the whole validation set:\n",
    "val_steps = (300000 - 200001 - lookback) // batch_size\n",
    "\n",
    "# This is how many steps to draw from `test_gen`\n",
    "# in order to see the whole test set:\n",
    "test_steps = (len(float_data) - 300001 - lookback) // batch_size"
   ]
  },
  {
   "cell_type": "code",
   "execution_count": 10,
   "metadata": {},
   "outputs": [
    {
     "name": "stderr",
     "output_type": "stream",
     "text": [
      "/home/ubuntu/anaconda/envs/py36-venv/lib/python3.6/site-packages/h5py/__init__.py:36: FutureWarning: Conversion of the second argument of issubdtype from `float` to `np.floating` is deprecated. In future, it will be treated as `np.float64 == np.dtype(float).type`.\n",
      "  from ._conv import register_converters as _register_converters\n",
      "Using TensorFlow backend.\n"
     ]
    }
   ],
   "source": [
    "from keras.models import Sequential\n",
    "from keras import layers\n",
    "from keras.optimizers import Adam"
   ]
  },
  {
   "cell_type": "code",
   "execution_count": 9,
   "metadata": {
    "scrolled": false
   },
   "outputs": [
    {
     "name": "stderr",
     "output_type": "stream",
     "text": [
      "/home/ubuntu/anaconda/envs/py36-venv/lib/python3.6/site-packages/h5py/__init__.py:36: FutureWarning: Conversion of the second argument of issubdtype from `float` to `np.floating` is deprecated. In future, it will be treated as `np.float64 == np.dtype(float).type`.\n",
      "  from ._conv import register_converters as _register_converters\n",
      "Using TensorFlow backend.\n"
     ]
    },
    {
     "name": "stdout",
     "output_type": "stream",
     "text": [
      "Epoch 1/40\n",
      "100/100 [==============================] - 88s 885ms/step - loss: 0.3917 - mean_absolute_error: 0.3917 - val_loss: 0.2878 - val_mean_absolute_error: 0.2878\n",
      "Epoch 2/40\n",
      "100/100 [==============================] - 85s 847ms/step - loss: 0.3357 - mean_absolute_error: 0.3357 - val_loss: 0.2819 - val_mean_absolute_error: 0.2819\n",
      "Epoch 3/40\n",
      "100/100 [==============================] - 85s 849ms/step - loss: 0.3306 - mean_absolute_error: 0.3306 - val_loss: 0.2825 - val_mean_absolute_error: 0.2825\n",
      "Epoch 4/40\n",
      "100/100 [==============================] - 84s 842ms/step - loss: 0.3265 - mean_absolute_error: 0.3265 - val_loss: 0.2803 - val_mean_absolute_error: 0.2803\n",
      "Epoch 5/40\n",
      "100/100 [==============================] - 84s 839ms/step - loss: 0.3227 - mean_absolute_error: 0.3227 - val_loss: 0.2837 - val_mean_absolute_error: 0.2837\n",
      "Epoch 6/40\n",
      "100/100 [==============================] - 84s 840ms/step - loss: 0.3165 - mean_absolute_error: 0.3165 - val_loss: 0.2762 - val_mean_absolute_error: 0.2762\n",
      "Epoch 7/40\n",
      "100/100 [==============================] - 84s 836ms/step - loss: 0.3230 - mean_absolute_error: 0.3230 - val_loss: 0.2746 - val_mean_absolute_error: 0.2746\n",
      "Epoch 8/40\n",
      "100/100 [==============================] - 84s 837ms/step - loss: 0.3168 - mean_absolute_error: 0.3168 - val_loss: 0.2753 - val_mean_absolute_error: 0.2753\n",
      "Epoch 9/40\n",
      "100/100 [==============================] - 83s 834ms/step - loss: 0.3141 - mean_absolute_error: 0.3141 - val_loss: 0.2817 - val_mean_absolute_error: 0.2817\n",
      "Epoch 10/40\n",
      "100/100 [==============================] - 83s 834ms/step - loss: 0.3159 - mean_absolute_error: 0.3159 - val_loss: 0.2759 - val_mean_absolute_error: 0.2759\n",
      "Epoch 11/40\n",
      "100/100 [==============================] - 84s 836ms/step - loss: 0.3137 - mean_absolute_error: 0.3137 - val_loss: 0.2748 - val_mean_absolute_error: 0.2748\n",
      "Epoch 12/40\n",
      "100/100 [==============================] - 84s 836ms/step - loss: 0.3124 - mean_absolute_error: 0.3124 - val_loss: 0.2708 - val_mean_absolute_error: 0.2708\n",
      "Epoch 13/40\n",
      "100/100 [==============================] - 83s 835ms/step - loss: 0.3111 - mean_absolute_error: 0.3111 - val_loss: 0.2707 - val_mean_absolute_error: 0.2707\n",
      "Epoch 14/40\n",
      "100/100 [==============================] - 84s 835ms/step - loss: 0.3072 - mean_absolute_error: 0.3072 - val_loss: 0.2711 - val_mean_absolute_error: 0.2711\n",
      "Epoch 15/40\n",
      "100/100 [==============================] - 84s 837ms/step - loss: 0.3026 - mean_absolute_error: 0.3026 - val_loss: 0.2720 - val_mean_absolute_error: 0.2720\n",
      "Epoch 16/40\n",
      "100/100 [==============================] - 83s 834ms/step - loss: 0.3067 - mean_absolute_error: 0.3067 - val_loss: 0.2697 - val_mean_absolute_error: 0.2697\n",
      "Epoch 17/40\n",
      "100/100 [==============================] - 84s 842ms/step - loss: 0.3092 - mean_absolute_error: 0.3092 - val_loss: 0.2734 - val_mean_absolute_error: 0.2734\n",
      "Epoch 18/40\n",
      "100/100 [==============================] - 84s 840ms/step - loss: 0.3047 - mean_absolute_error: 0.3047 - val_loss: 0.2687 - val_mean_absolute_error: 0.2687\n",
      "Epoch 19/40\n",
      "100/100 [==============================] - 83s 833ms/step - loss: 0.3028 - mean_absolute_error: 0.3028 - val_loss: 0.2694 - val_mean_absolute_error: 0.2694\n",
      "Epoch 20/40\n",
      "100/100 [==============================] - 83s 833ms/step - loss: 0.3064 - mean_absolute_error: 0.3064 - val_loss: 0.2693 - val_mean_absolute_error: 0.2693\n",
      "Epoch 21/40\n",
      "100/100 [==============================] - 83s 834ms/step - loss: 0.3098 - mean_absolute_error: 0.3098 - val_loss: 0.2751 - val_mean_absolute_error: 0.2751\n",
      "Epoch 22/40\n",
      "100/100 [==============================] - 83s 833ms/step - loss: 0.3005 - mean_absolute_error: 0.3005 - val_loss: 0.2701 - val_mean_absolute_error: 0.2701\n",
      "Epoch 23/40\n",
      "100/100 [==============================] - 83s 835ms/step - loss: 0.3030 - mean_absolute_error: 0.3030 - val_loss: 0.2763 - val_mean_absolute_error: 0.2763\n",
      "Epoch 24/40\n",
      "100/100 [==============================] - 84s 838ms/step - loss: 0.3036 - mean_absolute_error: 0.3036 - val_loss: 0.2690 - val_mean_absolute_error: 0.2690\n",
      "Epoch 25/40\n",
      "100/100 [==============================] - 84s 836ms/step - loss: 0.2983 - mean_absolute_error: 0.2983 - val_loss: 0.2695 - val_mean_absolute_error: 0.2695\n",
      "Epoch 26/40\n",
      "100/100 [==============================] - 84s 835ms/step - loss: 0.3028 - mean_absolute_error: 0.3028 - val_loss: 0.2694 - val_mean_absolute_error: 0.2694\n",
      "Epoch 27/40\n",
      "100/100 [==============================] - 84s 836ms/step - loss: 0.3019 - mean_absolute_error: 0.3019 - val_loss: 0.2731 - val_mean_absolute_error: 0.2731\n",
      "Epoch 28/40\n",
      "100/100 [==============================] - 84s 838ms/step - loss: 0.2978 - mean_absolute_error: 0.2978 - val_loss: 0.2714 - val_mean_absolute_error: 0.2714\n",
      "Epoch 29/40\n",
      "100/100 [==============================] - 84s 839ms/step - loss: 0.2986 - mean_absolute_error: 0.2986 - val_loss: 0.2763 - val_mean_absolute_error: 0.2763\n",
      "Epoch 30/40\n",
      "100/100 [==============================] - 84s 841ms/step - loss: 0.2996 - mean_absolute_error: 0.2996 - val_loss: 0.2704 - val_mean_absolute_error: 0.2704\n",
      "Epoch 31/40\n",
      "100/100 [==============================] - 85s 847ms/step - loss: 0.2965 - mean_absolute_error: 0.2965 - val_loss: 0.2727 - val_mean_absolute_error: 0.2727\n",
      "Epoch 32/40\n",
      "100/100 [==============================] - 84s 839ms/step - loss: 0.2973 - mean_absolute_error: 0.2973 - val_loss: 0.2701 - val_mean_absolute_error: 0.2701\n",
      "Epoch 33/40\n",
      "100/100 [==============================] - 84s 837ms/step - loss: 0.2931 - mean_absolute_error: 0.2931 - val_loss: 0.2679 - val_mean_absolute_error: 0.2679\n",
      "Epoch 34/40\n",
      "100/100 [==============================] - 84s 840ms/step - loss: 0.2955 - mean_absolute_error: 0.2955 - val_loss: 0.2699 - val_mean_absolute_error: 0.2699\n",
      "Epoch 35/40\n",
      "100/100 [==============================] - 83s 835ms/step - loss: 0.2915 - mean_absolute_error: 0.2915 - val_loss: 0.2706 - val_mean_absolute_error: 0.2706\n",
      "Epoch 36/40\n",
      "100/100 [==============================] - 84s 838ms/step - loss: 0.2963 - mean_absolute_error: 0.2963 - val_loss: 0.2679 - val_mean_absolute_error: 0.2679\n",
      "Epoch 37/40\n",
      "100/100 [==============================] - 83s 834ms/step - loss: 0.2956 - mean_absolute_error: 0.2956 - val_loss: 0.2674 - val_mean_absolute_error: 0.2674\n",
      "Epoch 38/40\n",
      "100/100 [==============================] - 84s 840ms/step - loss: 0.2936 - mean_absolute_error: 0.2936 - val_loss: 0.2701 - val_mean_absolute_error: 0.2701\n",
      "Epoch 39/40\n",
      "100/100 [==============================] - 84s 845ms/step - loss: 0.2933 - mean_absolute_error: 0.2933 - val_loss: 0.2707 - val_mean_absolute_error: 0.2707\n",
      "Epoch 40/40\n",
      "100/100 [==============================] - 84s 838ms/step - loss: 0.2917 - mean_absolute_error: 0.2917 - val_loss: 0.2660 - val_mean_absolute_error: 0.2660\n"
     ]
    }
   ],
   "source": [
    "model = Sequential()\n",
    "model.add(layers.GRU(32,\n",
    "                     dropout=0.2,\n",
    "                     recurrent_dropout=0.2,\n",
    "                     input_shape=(None, float_data.shape[-1])\n",
    "                    )\n",
    "         )\n",
    "model.add(layers.Dense(1))\n",
    "\n",
    "\n",
    "# Regression problem without activation function\n",
    "model.compile(optimizer=Adam(), loss='mae', metrics=['mae'])\n",
    "history = model.fit_generator(train_gen,\n",
    "                              steps_per_epoch=100,\n",
    "                              epochs=40,\n",
    "                              validation_data=val_gen,\n",
    "                              validation_steps=val_steps\n",
    "                             )"
   ]
  },
  {
   "cell_type": "markdown",
   "metadata": {},
   "source": [
    "## Combining 1D Convnet and LSTM"
   ]
  },
  {
   "cell_type": "code",
   "execution_count": 11,
   "metadata": {},
   "outputs": [
    {
     "name": "stdout",
     "output_type": "stream",
     "text": [
      "_________________________________________________________________\n",
      "Layer (type)                 Output Shape              Param #   \n",
      "=================================================================\n",
      "conv1d_1 (Conv1D)            (None, None, 32)          2272      \n",
      "_________________________________________________________________\n",
      "max_pooling1d_1 (MaxPooling1 (None, None, 32)          0         \n",
      "_________________________________________________________________\n",
      "conv1d_2 (Conv1D)            (None, None, 32)          5152      \n",
      "_________________________________________________________________\n",
      "lstm_1 (LSTM)                (None, 32)                8320      \n",
      "_________________________________________________________________\n",
      "dense_1 (Dense)              (None, 1)                 33        \n",
      "=================================================================\n",
      "Total params: 15,777\n",
      "Trainable params: 15,777\n",
      "Non-trainable params: 0\n",
      "_________________________________________________________________\n",
      "Epoch 1/40\n",
      "100/100 [==============================] - 43s 430ms/step - loss: 0.4211 - val_loss: 0.3365\n",
      "Epoch 2/40\n",
      "100/100 [==============================] - 38s 381ms/step - loss: 0.3508 - val_loss: 0.3055\n",
      "Epoch 3/40\n",
      "100/100 [==============================] - 38s 377ms/step - loss: 0.3346 - val_loss: 0.3055\n",
      "Epoch 4/40\n",
      "100/100 [==============================] - 38s 377ms/step - loss: 0.3265 - val_loss: 0.2961\n",
      "Epoch 5/40\n",
      "100/100 [==============================] - 38s 376ms/step - loss: 0.3164 - val_loss: 0.2925\n",
      "Epoch 6/40\n",
      "100/100 [==============================] - 38s 382ms/step - loss: 0.3118 - val_loss: 0.2896\n",
      "Epoch 7/40\n",
      "100/100 [==============================] - 37s 374ms/step - loss: 0.3069 - val_loss: 0.2901\n",
      "Epoch 8/40\n",
      "100/100 [==============================] - 38s 376ms/step - loss: 0.3033 - val_loss: 0.2924\n",
      "Epoch 9/40\n",
      "100/100 [==============================] - 38s 379ms/step - loss: 0.3004 - val_loss: 0.3007\n",
      "Epoch 10/40\n",
      "100/100 [==============================] - 38s 377ms/step - loss: 0.2999 - val_loss: 0.3133\n",
      "Epoch 11/40\n",
      "100/100 [==============================] - 38s 376ms/step - loss: 0.3047 - val_loss: 0.2868\n",
      "Epoch 12/40\n",
      "100/100 [==============================] - 38s 376ms/step - loss: 0.2959 - val_loss: 0.2906\n",
      "Epoch 13/40\n",
      "100/100 [==============================] - 38s 376ms/step - loss: 0.2909 - val_loss: 0.3007\n",
      "Epoch 14/40\n",
      "100/100 [==============================] - 38s 376ms/step - loss: 0.2926 - val_loss: 0.2895\n",
      "Epoch 15/40\n",
      "100/100 [==============================] - 38s 378ms/step - loss: 0.2895 - val_loss: 0.2948\n",
      "Epoch 16/40\n",
      "100/100 [==============================] - 38s 381ms/step - loss: 0.2875 - val_loss: 0.2984\n",
      "Epoch 17/40\n",
      "100/100 [==============================] - 38s 376ms/step - loss: 0.2876 - val_loss: 0.2876\n",
      "Epoch 18/40\n",
      "100/100 [==============================] - 38s 376ms/step - loss: 0.2862 - val_loss: 0.2945\n",
      "Epoch 19/40\n",
      "100/100 [==============================] - 37s 375ms/step - loss: 0.2828 - val_loss: 0.2925\n",
      "Epoch 20/40\n",
      "100/100 [==============================] - 38s 375ms/step - loss: 0.2835 - val_loss: 0.2863\n",
      "Epoch 21/40\n",
      "100/100 [==============================] - 38s 377ms/step - loss: 0.2776 - val_loss: 0.2925\n",
      "Epoch 22/40\n",
      "100/100 [==============================] - 37s 374ms/step - loss: 0.2818 - val_loss: 0.2970\n",
      "Epoch 23/40\n",
      "100/100 [==============================] - 38s 375ms/step - loss: 0.2762 - val_loss: 0.2829\n",
      "Epoch 24/40\n",
      "100/100 [==============================] - 38s 379ms/step - loss: 0.2761 - val_loss: 0.2840\n",
      "Epoch 25/40\n",
      "100/100 [==============================] - 38s 378ms/step - loss: 0.2731 - val_loss: 0.2855\n",
      "Epoch 26/40\n",
      "100/100 [==============================] - 38s 376ms/step - loss: 0.2728 - val_loss: 0.2978\n",
      "Epoch 27/40\n",
      "100/100 [==============================] - 38s 376ms/step - loss: 0.2692 - val_loss: 0.2882\n",
      "Epoch 28/40\n",
      "100/100 [==============================] - 38s 381ms/step - loss: 0.2745 - val_loss: 0.2910\n",
      "Epoch 29/40\n",
      "100/100 [==============================] - 37s 374ms/step - loss: 0.2648 - val_loss: 0.2871\n",
      "Epoch 30/40\n",
      "100/100 [==============================] - 38s 375ms/step - loss: 0.2692 - val_loss: 0.2906\n",
      "Epoch 31/40\n",
      "100/100 [==============================] - 38s 377ms/step - loss: 0.2637 - val_loss: 0.2869\n",
      "Epoch 32/40\n",
      "100/100 [==============================] - 38s 380ms/step - loss: 0.2650 - val_loss: 0.2908\n",
      "Epoch 33/40\n",
      "100/100 [==============================] - 38s 380ms/step - loss: 0.2658 - val_loss: 0.2872\n",
      "Epoch 34/40\n",
      "100/100 [==============================] - 38s 378ms/step - loss: 0.2613 - val_loss: 0.2947\n",
      "Epoch 35/40\n",
      "100/100 [==============================] - 38s 378ms/step - loss: 0.2614 - val_loss: 0.2957\n",
      "Epoch 36/40\n",
      "100/100 [==============================] - 37s 373ms/step - loss: 0.2642 - val_loss: 0.2877\n",
      "Epoch 37/40\n",
      "100/100 [==============================] - 38s 376ms/step - loss: 0.2574 - val_loss: 0.2949\n",
      "Epoch 38/40\n",
      "100/100 [==============================] - 37s 373ms/step - loss: 0.2544 - val_loss: 0.2921\n",
      "Epoch 39/40\n",
      "100/100 [==============================] - 38s 378ms/step - loss: 0.2543 - val_loss: 0.2969\n",
      "Epoch 40/40\n",
      "100/100 [==============================] - 38s 375ms/step - loss: 0.2545 - val_loss: 0.2973\n"
     ]
    }
   ],
   "source": [
    "model = Sequential()\n",
    "\n",
    "model.add(layers.Conv1D(32, 5, activation='relu',\n",
    "                        input_shape=(None, float_data.shape[-1]))\n",
    "         )\n",
    "model.add(layers.MaxPooling1D(3))\n",
    "\n",
    "model.add(layers.Conv1D(32, 5, activation='relu'))\n",
    "\n",
    "model.add(layers.LSTM(32, dropout=0.1, recurrent_dropout=0.5))\n",
    "model.add(layers.Dense(1))\n",
    "\n",
    "model.summary()\n",
    "\n",
    "model.compile(optimizer=Adam(), loss='mae')\n",
    "\n",
    "history = model.fit_generator(train_gen,\n",
    "                              steps_per_epoch=100,\n",
    "                              epochs=40,\n",
    "                              validation_data=val_gen,\n",
    "                              validation_steps=val_steps)"
   ]
  },
  {
   "cell_type": "code",
   "execution_count": 12,
   "metadata": {},
   "outputs": [
    {
     "data": {
      "image/png": "[encoded data removed]",
      "text/plain": [
       "<Figure size 432x288 with 1 Axes>"
      ]
     },
     "metadata": {},
     "output_type": "display_data"
    }
   ],
   "source": [
    "loss = history.history['loss']\n",
    "val_loss = history.history['val_loss']\n",
    "\n",
    "epochs = range(len(loss))\n",
    "\n",
    "plt.figure()\n",
    "\n",
    "plt.plot(epochs, loss, 'bo', label='Training loss')\n",
    "plt.plot(epochs, val_loss, 'b', label='Validation loss')\n",
    "plt.title('Training and validation loss')\n",
    "plt.legend()\n",
    "\n",
    "plt.show()"
   ]
  },
  {
   "cell_type": "markdown",
   "metadata": {},
   "source": [
    ""
   ]
  }
 ],
 "metadata": {
  "kernelspec": {
   "display_name": "Python 3",
   "language": "python",
   "name": "python3"
  },
  "language_info": {
   "codemirror_mode": {
    "name": "ipython",
    "version": 3.0
   },
   "file_extension": ".py",
   "mimetype": "text/x-python",
   "name": "python",
   "nbconvert_exporter": "python",
   "pygments_lexer": "ipython3",
   "version": "3.6.5"
  }
 },
 "nbformat": 4,
 "nbformat_minor": 0
}