{
 "cells": [
  {
   "cell_type": "code",
   "execution_count": 1,
   "metadata": {},
   "outputs": [],
   "source": [
    "from numpy import array\n",
    "import numpy as np"
   ]
  },
  {
   "cell_type": "markdown",
   "metadata": {},
   "source": [
    "## 1. Matrix Multiplication: Element-wise"
   ]
  },
  {
   "cell_type": "code",
   "execution_count": null,
   "metadata": {},
   "outputs": [],
   "source": [
    "A = array([\n",
    " [1, 2, 3],\n",
    " [4, 5, 6]\n",
    "])\n",
    "print(\"A's shape: {}\".format(A.shape,))\n",
    "print(A)"
   ]
  },
  {
   "cell_type": "code",
   "execution_count": null,
   "metadata": {},
   "outputs": [],
   "source": [
    "B =  array([\n",
    " [2, 4, 6],\n",
    " [8, 10, 12]\n",
    "])\n",
    "print(\"B's shape: {}\".format(B.shape,))\n",
    "print(B)"
   ]
  },
  {
   "cell_type": "code",
   "execution_count": null,
   "metadata": {},
   "outputs": [],
   "source": [
    "C = A * B\n",
    "print(\"C's shape: {}\".format(C.shape,))\n",
    "print(C)"
   ]
  },
  {
   "cell_type": "markdown",
   "metadata": {},
   "source": [
    "## 2. Matrix-Vector Multiplication: Broadcasting"
   ]
  },
  {
   "cell_type": "code",
   "execution_count": null,
   "metadata": {},
   "outputs": [],
   "source": [
    "A = array([\n",
    "    [1, 2], \n",
    "    [3, 4], \n",
    "    [5, 6]\n",
    "])\n",
    "print(\"A's shape: {}\".format(A.shape,))\n",
    "print(A)"
   ]
  },
  {
   "cell_type": "code",
   "execution_count": null,
   "metadata": {},
   "outputs": [],
   "source": [
    "B = array([2, 3])\n",
    "print(\"B's shape: {}\".format(B.shape,))\n",
    "print(B)"
   ]
  },
  {
   "cell_type": "code",
   "execution_count": null,
   "metadata": {},
   "outputs": [],
   "source": [
    "C = A + B\n",
    "print(\"C's shape: {}\".format(C.shape,))\n",
    "print(C)"
   ]
  },
  {
   "cell_type": "markdown",
   "metadata": {},
   "source": [
    "## 3. Dot Product"
   ]
  },
  {
   "cell_type": "code",
   "execution_count": null,
   "metadata": {},
   "outputs": [],
   "source": [
    "A = array([\n",
    "    [1, 2], \n",
    "    [3, 4], \n",
    "    [5, 6]\n",
    "])\n",
    "print(\"A's shape: {}\\n\".format(A.shape,))\n",
    "print(A)\n"
   ]
  },
  {
   "cell_type": "code",
   "execution_count": null,
   "metadata": {},
   "outputs": [],
   "source": [
    "B = array([\n",
    "    [1, 2], \n",
    "    [3, 4]\n",
    "])\n",
    "print(\"B's shape: {}\\n\".format(B.shape,))\n",
    "print(B)"
   ]
  },
  {
   "cell_type": "code",
   "execution_count": null,
   "metadata": {},
   "outputs": [],
   "source": [
    "C = A.dot(B)\n",
    "print(\"C's shape: {}\\n\".format(C.shape,))\n",
    "print(C)"
   ]
  },
  {
   "cell_type": "markdown",
   "metadata": {},
   "source": [
    "## 4. Python Loops vs. Numpy Matrix Operations"
   ]
  },
  {
   "cell_type": "code",
   "execution_count": 1,
   "metadata": {},
   "outputs": [
    {
     "name": "stdout",
     "output_type": "stream",
     "text": [
      "Matrix X:\n",
      " [[0 8 6 2 9 4 5 2 6 6]\n",
      " [6 2 1 3 7 9 1 1 6 7]\n",
      " [3 1 8 3 9 0 1 8 8 8]\n",
      " [6 3 4 3 4 0 2 1 1 1]\n",
      " [0 4 7 3 3 4 2 3 2 6]\n",
      " [7 5 4 3 1 8 2 3 0 7]\n",
      " [7 9 5 8 6 0 5 8 7 8]\n",
      " [7 4 1 4 7 8 0 6 6 8]\n",
      " [1 8 3 4 7 8 2 2 4 9]\n",
      " [5 9 0 9 7 1 8 6 5 2]]\n",
      "Matrix Y:\n",
      " [[4 5 5 3 4 1 5 6 9 6]\n",
      " [1 0 4 3 9 4 7 9 7 8]\n",
      " [9 9 9 0 2 7 6 0 7 0]\n",
      " [9 2 6 0 4 8 9 0 0 6]\n",
      " [9 7 1 3 5 6 3 7 5 4]\n",
      " [5 5 0 3 1 3 7 9 8 0]\n",
      " [1 3 4 9 7 1 0 3 6 3]\n",
      " [0 7 3 1 4 6 4 8 1 2]\n",
      " [5 5 2 3 0 3 6 3 3 4]\n",
      " [5 7 1 4 9 4 6 6 4 9]]\n"
     ]
    }
   ],
   "source": [
    "from numpy import random\n",
    "import timeit\n",
    "\n",
    "X = random.randint(10, size=(10, 10))\n",
    "Y = random.randint(10, size=(10, 10))\n",
    "\n",
    "print(\"Matrix X:\\n {}\".format(X))\n",
    "print(\"Matrix Y:\\n {}\".format(Y))"
   ]
  },
  {
   "cell_type": "code",
   "execution_count": 3,
   "metadata": {},
   "outputs": [],
   "source": [
    "def add_python(X, Y):\n",
    "    return [[X[i][j] + Y[i][j]  for j in range(len(X[0]))] for i in range(len(X))]\n",
    "\n",
    "def add_numpy(X, Y):\n",
    "    return np.add(X, Y)"
   ]
  },
  {
   "cell_type": "code",
   "execution_count": 6,
   "metadata": {},
   "outputs": [
    {
     "data": {
      "text/plain": [
       "0.611908845000471"
      ]
     },
     "execution_count": 6,
     "metadata": {},
     "output_type": "execute_result"
    }
   ],
   "source": [
    "timeit.timeit('add_numpy(X, Y)', globals=globals())"
   ]
  },
  {
   "cell_type": "code",
   "execution_count": 7,
   "metadata": {},
   "outputs": [
    {
     "data": {
      "text/plain": [
       "64.48518569099997"
      ]
     },
     "execution_count": 7,
     "metadata": {},
     "output_type": "execute_result"
    }
   ],
   "source": [
    "timeit.timeit('add_python(X, Y)', globals=globals())"
   ]
  },
  {
   "cell_type": "markdown",
   "metadata": {},
   "source": [
    "## 5. Normalization"
   ]
  },
  {
   "cell_type": "code",
   "execution_count": null,
   "metadata": {},
   "outputs": [],
   "source": [
    "from numpy import array\n",
    "import numpy as np\n",
    "\n",
    "a = array([0.1, 5, 12, 100])\n",
    "print(\"Mean: {}\".format(a.mean(axis=0)))\n",
    "a -= a.mean(axis=0)\n",
    "print(\"After deduct mean: {}\".format(a))\n"
   ]
  },
  {
   "cell_type": "code",
   "execution_count": null,
   "metadata": {},
   "outputs": [],
   "source": [
    "print(\"Standard Deviation: {}\".format(a.std(axis=0)))\n",
    "a /= a.std(axis=0)\n",
    "print(\"After normalization: {}\".format(a))"
   ]
  },
  {
   "cell_type": "code",
   "execution_count": null,
   "metadata": {},
   "outputs": [],
   "source": [
    "print(\"Standard Deviation of the normalized array: {}\".format(a.std(axis=0)))"
   ]
  },
  {
   "cell_type": "markdown",
   "metadata": {},
   "source": [
    "## 6. Chain Rules"
   ]
  },
  {
   "cell_type": "code",
   "execution_count": 8,
   "metadata": {},
   "outputs": [
    {
     "data": {
      "text/plain": [
       "8*x"
      ]
     },
     "execution_count": 8,
     "metadata": {},
     "output_type": "execute_result"
    }
   ],
   "source": [
    "# sympy does symbolic differentiation\n",
    "import sympy as sp\n",
    "from sympy import *\n",
    "\n",
    "x = sp.symbols('x')\n",
    "y = sp.symbols('y')\n",
    "\n",
    "f = 2*x\n",
    "g = pow(f, 2)# g = f(x)**2\n",
    "\n",
    "# Calculate the derivative to x\n",
    "g_x_d = g.diff()\n",
    "\n",
    "g_x_d"
   ]
  },
  {
   "cell_type": "markdown",
   "metadata": {},
   "source": [
    "## 7. Gradient for a two variables function"
   ]
  },
  {
   "cell_type": "code",
   "execution_count": 9,
   "metadata": {},
   "outputs": [
    {
     "data": {
      "text/plain": [
       "[2*x - y, -x]"
      ]
     },
     "execution_count": 9,
     "metadata": {},
     "output_type": "execute_result"
    }
   ],
   "source": [
    "m=sp.Matrix([[x],[y]])\n",
    "f = x**2-x*y\n",
    "\n",
    "f_x_y_d = [sp.diff(f, i) for i in m]\n",
    "f_x_y_d"
   ]
  },
  {
   "cell_type": "markdown",
   "metadata": {},
   "source": [
    "## 8. Softmax Function"
   ]
  },
  {
   "cell_type": "code",
   "execution_count": null,
   "metadata": {},
   "outputs": [],
   "source": [
    "def softmax(y):\n",
    "    \"\"\"Compute softmax values for each sets of scores in y.\"\"\"\n",
    "    return np.exp(y) / np.sum(np.exp(y), axis=0)"
   ]
  },
  {
   "cell_type": "code",
   "execution_count": null,
   "metadata": {},
   "outputs": [],
   "source": [
    "# Let's say we want to classify: dog, pig, chickren, duck\n",
    "scores = [1,2,3,4]\n",
    "print(softmax(scores))"
   ]
  },
  {
   "cell_type": "markdown",
   "metadata": {},
   "source": [
    "## 9. Activation Functions"
   ]
  },
  {
   "cell_type": "markdown",
   "metadata": {},
   "source": [
    "### 1. Sigmod "
   ]
  },
  {
   "cell_type": "code",
   "execution_count": null,
   "metadata": {},
   "outputs": [],
   "source": [
    "#sigmoid activation function\n",
    "def sigmoid(x, derivative=False):\n",
    "    if(derivative==True):\n",
    "        return x*(1-x)\n",
    "    return 1/(1+np.exp(-x))"
   ]
  },
  {
   "cell_type": "markdown",
   "metadata": {},
   "source": [
    "![Sigmoid](images/sigmoid.gif)"
   ]
  },
  {
   "cell_type": "code",
   "execution_count": null,
   "metadata": {},
   "outputs": [],
   "source": [
    "sigmoid(-5)"
   ]
  },
  {
   "cell_type": "markdown",
   "metadata": {
    "collapsed": true
   },
   "source": [
    "## 10. 2D Convolution"
   ]
  },
  {
   "cell_type": "code",
   "execution_count": 3,
   "metadata": {},
   "outputs": [],
   "source": [
    "import numpy as np\n",
    "from scipy import signal"
   ]
  },
  {
   "cell_type": "code",
   "execution_count": 4,
   "metadata": {},
   "outputs": [],
   "source": [
    "input_matrix = np.array(\n",
    "             [[1, 1, 1, 0, 0],\n",
    "              [0, 1, 1, 1, 0],\n",
    "              [0, 0, 1, 1, 1],\n",
    "              [0, 0, 1, 1, 0],\n",
    "              [0, 1, 1, 0, 0]],\n",
    "             dtype='float')\n",
    "\n",
    "kernal = np.array(\n",
    "               [[1, 0, 1],\n",
    "                [0, 1, 0],\n",
    "                [1, 0, 1],],\n",
    "               dtype='float')"
   ]
  },
  {
   "cell_type": "markdown",
   "metadata": {},
   "source": [
    "### Output Size: (5 - 3 + 2*0)/1 + 1 = 3"
   ]
  },
  {
   "cell_type": "code",
   "execution_count": 5,
   "metadata": {},
   "outputs": [
    {
     "data": {
      "text/plain": [
       "array([[4., 3., 4.],\n",
       "       [2., 4., 3.],\n",
       "       [2., 3., 4.]])"
      ]
     },
     "execution_count": 5,
     "metadata": {},
     "output_type": "execute_result"
    }
   ],
   "source": [
    "signal.convolve2d(input_matrix, kernal, mode='valid')"
   ]
  },
  {
   "cell_type": "code",
   "execution_count": 6,
   "metadata": {},
   "outputs": [
    {
     "data": {
      "text/plain": [
       "array([[2., 2., 3., 1., 1.],\n",
       "       [1., 4., 3., 4., 1.],\n",
       "       [1., 2., 4., 3., 3.],\n",
       "       [1., 2., 3., 4., 1.],\n",
       "       [0., 2., 2., 1., 1.]])"
      ]
     },
     "execution_count": 6,
     "metadata": {},
     "output_type": "execute_result"
    }
   ],
   "source": [
    "signal.convolve2d(input_matrix, kernal, mode='same')"
   ]
  },
  {
   "cell_type": "markdown",
   "metadata": {
    "collapsed": true
   },
   "source": [
    "## 11. He et al. Weight Initialization."
   ]
  },
  {
   "cell_type": "markdown",
   "metadata": {},
   "source": [
    "## Normal Distribution"
   ]
  },
  {
   "cell_type": "code",
   "execution_count": null,
   "metadata": {},
   "outputs": [],
   "source": [
    "F_in = 64\n",
    "F_out = 32\n",
    "\n",
    "sd = np.sqrt(2/float(F_in))\n",
    "print(\"Standard Deviation: {}\".format(sd))\n",
    "\n",
    "W = np.random.normal(0.0, sd, size=(F_in, F_out))\n",
    "print(\"Shape: {}\".format(W.shape))\n",
    "W"
   ]
  },
  {
   "cell_type": "markdown",
   "metadata": {},
   "source": [
    "## Uniform Distribution"
   ]
  },
  {
   "cell_type": "code",
   "execution_count": null,
   "metadata": {},
   "outputs": [],
   "source": [
    "limit = np.sqrt(6 / float(F_in))\n",
    "np.random.uniform(low=-limit, high=limit, size=(F_in, F_out))"
   ]
  },
  {
   "cell_type": "code",
   "execution_count": null,
   "metadata": {},
   "outputs": [],
   "source": []
  }
 ],
 "metadata": {
  "kernelspec": {
   "display_name": "Python 3",
   "language": "python",
   "name": "python3"
  },
  "language_info": {
   "codemirror_mode": {
    "name": "ipython",
    "version": 3
   },
   "file_extension": ".py",
   "mimetype": "text/x-python",
   "name": "python",
   "nbconvert_exporter": "python",
   "pygments_lexer": "ipython3",
   "version": "3.6.5"
  }
 },
 "nbformat": 4,
 "nbformat_minor": 2
}
