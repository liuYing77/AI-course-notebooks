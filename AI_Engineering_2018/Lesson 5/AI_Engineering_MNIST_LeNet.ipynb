{
 "cells": [
  {
   "cell_type": "code",
   "execution_count": 1,
   "metadata": {},
   "outputs": [
    {
     "name": "stderr",
     "output_type": "stream",
     "text": [
      "/home/ubuntu/anaconda/envs/py36-venv/lib/python3.6/site-packages/h5py/__init__.py:36: FutureWarning: Conversion of the second argument of issubdtype from `float` to `np.floating` is deprecated. In future, it will be treated as `np.float64 == np.dtype(float).type`.\n",
      "  from ._conv import register_converters as _register_converters\n",
      "Using TensorFlow backend.\n"
     ]
    }
   ],
   "source": [
    "import keras\n",
    "from keras.datasets import mnist"
   ]
  },
  {
   "cell_type": "markdown",
   "metadata": {},
   "source": [
    "## Load MNIST data from Keras\n",
    "Images are ecoded as Numpy arrays"
   ]
  },
  {
   "cell_type": "code",
   "execution_count": 2,
   "metadata": {},
   "outputs": [
    {
     "name": "stdout",
     "output_type": "stream",
     "text": [
      "Training Dataset Shape: (60000, 28, 28)\n"
     ]
    }
   ],
   "source": [
    "(train_images, train_labels), (test_images, test_labels) = mnist.load_data()\n",
    "print(\"Training Dataset Shape: {}\".format(train_images.shape))"
   ]
  },
  {
   "cell_type": "markdown",
   "metadata": {},
   "source": [
    "## First 4 samples in Test dataset"
   ]
  },
  {
   "cell_type": "code",
   "execution_count": 4,
   "metadata": {},
   "outputs": [
    {
     "data": {
      "image/png": "[encoded data removed]",
      "text/plain": [
       "<Figure size 432x288 with 4 Axes>"
      ]
     },
     "metadata": {},
     "output_type": "display_data"
    }
   ],
   "source": [
    "import matplotlib.pyplot as plt\n",
    "# plot 4 images as gray scale\n",
    "plt.subplot(221)\n",
    "plt.imshow(test_images[0], cmap='gray')\n",
    "plt.subplot(222)\n",
    "plt.imshow(test_images[1], cmap='gray')\n",
    "plt.subplot(223)\n",
    "plt.imshow(test_images[2], cmap='gray')\n",
    "plt.subplot(224)\n",
    "plt.imshow(test_images[3], cmap='gray')\n",
    "# show the plot\n",
    "plt.show()"
   ]
  },
  {
   "cell_type": "markdown",
   "metadata": {},
   "source": [
    "# Data Preprocessing"
   ]
  },
  {
   "cell_type": "markdown",
   "metadata": {},
   "source": [
    "## 1. Normalize/Scale data\n",
    "\n",
    "The pixel values are gray scale between 0 and 255. Normalize it to [0, 1] range by dividing 255."
   ]
  },
  {
   "cell_type": "code",
   "execution_count": 4,
   "metadata": {},
   "outputs": [],
   "source": [
    "train_images = train_images.reshape((train_images.shape[0], 28, 28, 1))\n",
    "train_images = train_images.astype('float32')/255\n",
    "\n",
    "val_images = train_images[:5000]\n",
    "train_images = train_images[5000:]\n",
    "\n",
    "test_images = test_images.reshape((test_images.shape[0], 28, 28, 1))\n",
    "test_images = test_images.astype('float32')/255"
   ]
  },
  {
   "cell_type": "markdown",
   "metadata": {},
   "source": [
    "## 2. One-hot-encoding on Labels\n",
    "It is good practice to use a one-hot-encoding of the class values, transforming the vector of class integers into a binary matrix."
   ]
  },
  {
   "cell_type": "code",
   "execution_count": 5,
   "metadata": {},
   "outputs": [
    {
     "name": "stdout",
     "output_type": "stream",
     "text": [
      "The First 10 Training Labels:\n",
      " [7 2 1 0 4 1 4 9 5 9]\n",
      "After encoding:\n",
      " [[0. 0. 0. 0. 0. 0. 0. 1. 0. 0.]\n",
      " [0. 0. 1. 0. 0. 0. 0. 0. 0. 0.]\n",
      " [0. 1. 0. 0. 0. 0. 0. 0. 0. 0.]\n",
      " [1. 0. 0. 0. 0. 0. 0. 0. 0. 0.]\n",
      " [0. 0. 0. 0. 1. 0. 0. 0. 0. 0.]\n",
      " [0. 1. 0. 0. 0. 0. 0. 0. 0. 0.]\n",
      " [0. 0. 0. 0. 1. 0. 0. 0. 0. 0.]\n",
      " [0. 0. 0. 0. 0. 0. 0. 0. 0. 1.]\n",
      " [0. 0. 0. 0. 0. 1. 0. 0. 0. 0.]\n",
      " [0. 0. 0. 0. 0. 0. 0. 0. 0. 1.]]\n"
     ]
    }
   ],
   "source": [
    "from keras.utils import to_categorical\n",
    "\n",
    "print(\"The First 10 Training Labels:\\n {}\".format(test_labels[:10]))\n",
    "\n",
    "train_labels = to_categorical(train_labels)\n",
    "\n",
    "# Split Validataion set from training set\n",
    "val_labels = train_labels[:5000]\n",
    "train_labels = train_labels[5000:]\n",
    "\n",
    "test_labels = to_categorical(test_labels)\n",
    "\n",
    "print(\"After encoding:\\n {}\".format(test_labels[:10]))"
   ]
  },
  {
   "cell_type": "markdown",
   "metadata": {},
   "source": [
    "## Build a Convolutional Neural Network"
   ]
  },
  {
   "cell_type": "code",
   "execution_count": 6,
   "metadata": {},
   "outputs": [],
   "source": [
    "from keras.models import Sequential\n",
    "from keras.layers.convolutional import Conv2D, MaxPooling2D\n",
    "from keras.layers.core import Flatten, Dense, Activation, Dropout"
   ]
  },
  {
   "cell_type": "code",
   "execution_count": 7,
   "metadata": {},
   "outputs": [],
   "source": [
    "model = Sequential()\n",
    "\n",
    "model.add(Conv2D(filters=20, \n",
    "              kernel_size=(5, 5), \n",
    "              strides=(1, 1), \n",
    "              padding=\"same\", \n",
    "              activation='relu', \n",
    "              input_shape=(28, 28, 1)))\n",
    "\n",
    "model.add(MaxPooling2D(pool_size=(2, 2), strides=(2, 2)))\n",
    "\n",
    "model.add(Conv2D(filters=50, \n",
    "              kernel_size=(5, 5), \n",
    "              strides=(1, 1), \n",
    "              padding=\"same\", \n",
    "              activation='relu'))\n",
    "\n",
    "model.add(MaxPooling2D(pool_size=(2, 2), strides=(2, 2)))\n",
    "\n",
    "model.add(Dropout(0.5))"
   ]
  },
  {
   "cell_type": "code",
   "execution_count": 8,
   "metadata": {},
   "outputs": [
    {
     "name": "stdout",
     "output_type": "stream",
     "text": [
      "(None, 7, 7, 50)\n"
     ]
    }
   ],
   "source": [
    "print(model.output_shape)"
   ]
  },
  {
   "cell_type": "markdown",
   "metadata": {},
   "source": [
    "## Below two Fully-connected layers are inherited from last lesson."
   ]
  },
  {
   "cell_type": "code",
   "execution_count": 9,
   "metadata": {},
   "outputs": [],
   "source": [
    "model.add(Flatten())\n",
    "model.add(Dense(units=500, activation='relu'))"
   ]
  },
  {
   "cell_type": "markdown",
   "metadata": {},
   "source": [
    "The output layer consists of 10 neurons since we want to classify digits into 10 classes (0 to 9)"
   ]
  },
  {
   "cell_type": "code",
   "execution_count": 10,
   "metadata": {},
   "outputs": [],
   "source": [
    "model.add(Dense(units=10, activation='softmax'))"
   ]
  },
  {
   "cell_type": "code",
   "execution_count": 11,
   "metadata": {},
   "outputs": [],
   "source": [
    "from keras import optimizers\n",
    "\n",
    "model.compile(optimizer=optimizers.Adam(lr=0.001),\n",
    "           loss='categorical_crossentropy',\n",
    "           metrics=['accuracy']\n",
    "          )"
   ]
  },
  {
   "cell_type": "markdown",
   "metadata": {},
   "source": [
    "## Start Neural Network Training"
   ]
  },
  {
   "cell_type": "code",
   "execution_count": 12,
   "metadata": {
    "scrolled": true
   },
   "outputs": [
    {
     "name": "stdout",
     "output_type": "stream",
     "text": [
      "Train on 55000 samples, validate on 5000 samples\n",
      "Epoch 1/20\n",
      "55000/55000 [==============================] - 14s 254us/step - loss: 0.1956 - acc: 0.9381 - val_loss: 0.0671 - val_acc: 0.9802\n",
      "Epoch 2/20\n",
      "55000/55000 [==============================] - 7s 119us/step - loss: 0.0624 - acc: 0.9806 - val_loss: 0.0402 - val_acc: 0.9872\n",
      "Epoch 3/20\n",
      "55000/55000 [==============================] - 6s 118us/step - loss: 0.0463 - acc: 0.9848 - val_loss: 0.0329 - val_acc: 0.9894\n",
      "Epoch 4/20\n",
      "55000/55000 [==============================] - 6s 118us/step - loss: 0.0392 - acc: 0.9874 - val_loss: 0.0309 - val_acc: 0.9912\n",
      "Epoch 5/20\n",
      "55000/55000 [==============================] - 7s 118us/step - loss: 0.0315 - acc: 0.9899 - val_loss: 0.0266 - val_acc: 0.9916\n",
      "Epoch 6/20\n",
      "55000/55000 [==============================] - 7s 118us/step - loss: 0.0280 - acc: 0.9909 - val_loss: 0.0265 - val_acc: 0.9904\n",
      "Epoch 7/20\n",
      "55000/55000 [==============================] - 6s 118us/step - loss: 0.0252 - acc: 0.9919 - val_loss: 0.0269 - val_acc: 0.9924\n",
      "Epoch 8/20\n",
      "55000/55000 [==============================] - 6s 118us/step - loss: 0.0209 - acc: 0.9930 - val_loss: 0.0249 - val_acc: 0.9926\n",
      "Epoch 9/20\n",
      "55000/55000 [==============================] - 7s 119us/step - loss: 0.0178 - acc: 0.9942 - val_loss: 0.0244 - val_acc: 0.9928\n",
      "Epoch 10/20\n",
      "55000/55000 [==============================] - 6s 118us/step - loss: 0.0156 - acc: 0.9947 - val_loss: 0.0277 - val_acc: 0.9928\n",
      "Epoch 11/20\n",
      "55000/55000 [==============================] - 6s 118us/step - loss: 0.0171 - acc: 0.9947 - val_loss: 0.0213 - val_acc: 0.9928\n",
      "Epoch 12/20\n",
      "55000/55000 [==============================] - 7s 119us/step - loss: 0.0136 - acc: 0.9955 - val_loss: 0.0230 - val_acc: 0.9932\n",
      "Epoch 13/20\n",
      "55000/55000 [==============================] - 7s 118us/step - loss: 0.0133 - acc: 0.9954 - val_loss: 0.0307 - val_acc: 0.9922\n",
      "Epoch 14/20\n",
      "55000/55000 [==============================] - 6s 118us/step - loss: 0.0135 - acc: 0.9955 - val_loss: 0.0274 - val_acc: 0.9910\n",
      "Epoch 15/20\n",
      "55000/55000 [==============================] - 7s 119us/step - loss: 0.0108 - acc: 0.9964 - val_loss: 0.0261 - val_acc: 0.9926\n",
      "Epoch 16/20\n",
      "55000/55000 [==============================] - 7s 119us/step - loss: 0.0118 - acc: 0.9957 - val_loss: 0.0249 - val_acc: 0.9932\n",
      "Epoch 17/20\n",
      "55000/55000 [==============================] - 6s 118us/step - loss: 0.0100 - acc: 0.9968 - val_loss: 0.0222 - val_acc: 0.9928\n",
      "Epoch 18/20\n",
      "55000/55000 [==============================] - 7s 119us/step - loss: 0.0101 - acc: 0.9968 - val_loss: 0.0256 - val_acc: 0.9928\n",
      "Epoch 19/20\n",
      "55000/55000 [==============================] - 7s 118us/step - loss: 0.0110 - acc: 0.9963 - val_loss: 0.0240 - val_acc: 0.9936\n",
      "Epoch 20/20\n",
      "55000/55000 [==============================] - 7s 119us/step - loss: 0.0089 - acc: 0.9968 - val_loss: 0.0298 - val_acc: 0.9920\n"
     ]
    }
   ],
   "source": [
    "history = model.fit(\n",
    "    train_images, \n",
    "    train_labels,\n",
    "    epochs=20,\n",
    "    batch_size=128,\n",
    "    validation_data=(val_images, val_labels),\n",
    "    verbose=1\n",
    "    )"
   ]
  },
  {
   "cell_type": "code",
   "execution_count": 13,
   "metadata": {},
   "outputs": [
    {
     "name": "stdout",
     "output_type": "stream",
     "text": [
      "_________________________________________________________________\n",
      "Layer (type)                 Output Shape              Param #   \n",
      "=================================================================\n",
      "conv2d_1 (Conv2D)            (None, 28, 28, 20)        520       \n",
      "_________________________________________________________________\n",
      "max_pooling2d_1 (MaxPooling2 (None, 14, 14, 20)        0         \n",
      "_________________________________________________________________\n",
      "conv2d_2 (Conv2D)            (None, 14, 14, 50)        25050     \n",
      "_________________________________________________________________\n",
      "max_pooling2d_2 (MaxPooling2 (None, 7, 7, 50)          0         \n",
      "_________________________________________________________________\n",
      "dropout_1 (Dropout)          (None, 7, 7, 50)          0         \n",
      "_________________________________________________________________\n",
      "flatten_1 (Flatten)          (None, 2450)              0         \n",
      "_________________________________________________________________\n",
      "dense_1 (Dense)              (None, 500)               1225500   \n",
      "_________________________________________________________________\n",
      "dense_2 (Dense)              (None, 10)                5010      \n",
      "=================================================================\n",
      "Total params: 1,256,080\n",
      "Trainable params: 1,256,080\n",
      "Non-trainable params: 0\n",
      "_________________________________________________________________\n"
     ]
    }
   ],
   "source": [
    "model.summary()"
   ]
  },
  {
   "cell_type": "markdown",
   "metadata": {},
   "source": [
    "## Convoluation Filters"
   ]
  },
  {
   "cell_type": "code",
   "execution_count": 14,
   "metadata": {},
   "outputs": [
    {
     "name": "stdout",
     "output_type": "stream",
     "text": [
      "The first conv layer's filers: (5, 5, 1, 20)\n",
      "\n"
     ]
    },
    {
     "data": {
      "text/plain": [
       "array([[[-0.03877818],\n",
       "        [ 0.06255184],\n",
       "        [-0.00810223],\n",
       "        [ 0.04865535],\n",
       "        [ 0.04208807]],\n",
       "\n",
       "       [[-0.04631386],\n",
       "        [-0.12889503],\n",
       "        [-0.19409879],\n",
       "        [ 0.06850196],\n",
       "        [ 0.04419895]],\n",
       "\n",
       "       [[-0.10139079],\n",
       "        [-0.09862718],\n",
       "        [-0.08556543],\n",
       "        [ 0.04911518],\n",
       "        [ 0.12189538]],\n",
       "\n",
       "       [[-0.09595104],\n",
       "        [ 0.00836138],\n",
       "        [-0.01649703],\n",
       "        [ 0.0076978 ],\n",
       "        [ 0.04409373]],\n",
       "\n",
       "       [[-0.0501192 ],\n",
       "        [-0.06715069],\n",
       "        [-0.07589749],\n",
       "        [ 0.03763331],\n",
       "        [ 0.09503209]]], dtype=float32)"
      ]
     },
     "execution_count": 14,
     "metadata": {},
     "output_type": "execute_result"
    }
   ],
   "source": [
    "weights = model.get_weights() # get model weights\n",
    "conv1_filters = weights[0]\n",
    "print(\"The first conv layer's filers: {}\\n\".format(conv1_filters.shape))\n",
    "conv1_filters[:,:,:,0] # the first filter "
   ]
  },
  {
   "cell_type": "markdown",
   "metadata": {},
   "source": [
    "## Evaluation and Test"
   ]
  },
  {
   "cell_type": "code",
   "execution_count": 15,
   "metadata": {},
   "outputs": [
    {
     "name": "stdout",
     "output_type": "stream",
     "text": [
      "10000/10000 [==============================] - 1s 79us/step\n"
     ]
    },
    {
     "data": {
      "text/plain": [
       "[0.024005420563348662, 0.994]"
      ]
     },
     "execution_count": 15,
     "metadata": {},
     "output_type": "execute_result"
    }
   ],
   "source": [
    "model.evaluate(test_images, test_labels)"
   ]
  },
  {
   "cell_type": "code",
   "execution_count": 16,
   "metadata": {},
   "outputs": [
    {
     "name": "stdout",
     "output_type": "stream",
     "text": [
      "Predicted Classes: [7 2 1 0]\n",
      "Predicted Probabilities:\n",
      " [[1.8886373e-17 1.1537581e-11 3.1729404e-16 4.2723203e-13 5.8673265e-20\n",
      "  5.0839059e-22 1.4633467e-22 1.0000000e+00 7.4613296e-18 1.6239075e-10]\n",
      " [1.1488497e-12 3.0094135e-12 1.0000000e+00 1.2486017e-20 5.5431391e-18\n",
      "  4.6195291e-22 6.7048114e-13 1.5278615e-17 1.3197904e-16 1.1527758e-17]\n",
      " [1.6197598e-13 1.0000000e+00 4.4199921e-14 8.1271038e-20 5.4861666e-09\n",
      "  8.6892117e-12 1.1717858e-12 1.6340738e-10 8.8632694e-14 2.1901841e-14]\n",
      " [9.9999988e-01 2.4672265e-16 5.4168558e-12 3.0746096e-12 4.7734315e-13\n",
      "  7.1052708e-10 7.9533919e-08 1.3304240e-11 4.2940345e-13 3.5151576e-10]]\n"
     ]
    }
   ],
   "source": [
    "preds = model.predict_classes(test_images[:4])\n",
    "probs = model.predict_proba(test_images[:4])\n",
    "\n",
    "print(\"Predicted Classes: {}\".format(preds))\n",
    "print(\"Predicted Probabilities:\\n {}\".format(probs))"
   ]
  },
  {
   "cell_type": "markdown",
   "metadata": {},
   "source": [
    "## Loss and Accuracy Diagrams"
   ]
  },
  {
   "cell_type": "code",
   "execution_count": 17,
   "metadata": {},
   "outputs": [
    {
     "data": {
      "image/png": "[encoded data removed]",
      "text/plain": [
       "<Figure size 432x288 with 1 Axes>"
      ]
     },
     "metadata": {},
     "output_type": "display_data"
    }
   ],
   "source": [
    "import matplotlib.pyplot as plt\n",
    "\n",
    "loss = history.history['loss']\n",
    "val_loss = history.history['val_loss']\n",
    "\n",
    "epochs = range(1, len(loss) + 1)\n",
    "\n",
    "plt.figure()\n",
    "\n",
    "plt.plot(epochs, loss, 'bo', label='Training loss')\n",
    "plt.plot(epochs, val_loss, 'b', label='Validation loss')\n",
    "plt.title('Training and validation loss')\n",
    "plt.legend()\n",
    "\n",
    "plt.show()"
   ]
  },
  {
   "cell_type": "code",
   "execution_count": 18,
   "metadata": {},
   "outputs": [
    {
     "data": {
      "image/png": "[encoded data removed]",
      "text/plain": [
       "<Figure size 432x288 with 1 Axes>"
      ]
     },
     "metadata": {},
     "output_type": "display_data"
    }
   ],
   "source": [
    "acc = history.history['acc']\n",
    "val_acc = history.history['val_acc']\n",
    "\n",
    "epochs = range(1, len(acc) + 1)\n",
    "\n",
    "plt.figure()\n",
    "\n",
    "plt.plot(epochs, acc, 'bo', label='Training Accuracy')\n",
    "plt.plot(epochs, val_acc, 'b', label='Validation Accuracy')\n",
    "plt.title('Training and validation Accuracy')\n",
    "plt.legend()\n",
    "\n",
    "plt.show()"
   ]
  },
  {
   "cell_type": "code",
   "execution_count": null,
   "metadata": {},
   "outputs": [],
   "source": []
  }
 ],
 "metadata": {
  "kernelspec": {
   "display_name": "Python 3",
   "language": "python",
   "name": "python3"
  },
  "language_info": {
   "codemirror_mode": {
    "name": "ipython",
    "version": 3
   },
   "file_extension": ".py",
   "mimetype": "text/x-python",
   "name": "python",
   "nbconvert_exporter": "python",
   "pygments_lexer": "ipython3",
   "version": "3.6.5"
  }
 },
 "nbformat": 4,
 "nbformat_minor": 2
}
