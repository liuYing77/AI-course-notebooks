{
 "cells": [
  {
   "cell_type": "code",
   "execution_count": 1,
   "metadata": {},
   "outputs": [
    {
     "name": "stderr",
     "output_type": "stream",
     "text": [
      "/home/ubuntu/anaconda/envs/py36-venv/lib/python3.6/site-packages/h5py/__init__.py:36: FutureWarning: Conversion of the second argument of issubdtype from `float` to `np.floating` is deprecated. In future, it will be treated as `np.float64 == np.dtype(float).type`.\n",
      "  from ._conv import register_converters as _register_converters\n",
      "Using TensorFlow backend.\n"
     ]
    }
   ],
   "source": [
    "from __future__ import print_function\n",
    "\n",
    "from keras.models import Model\n",
    "from keras.layers import Input, LSTM, Dense\n",
    "import numpy as np"
   ]
  },
  {
   "cell_type": "markdown",
   "metadata": {},
   "source": [
    "## Load dataset and parse inputs\n",
    "\n",
    "The English-French dataset: http://www.manythings.org/anki/fra-eng.zip"
   ]
  },
  {
   "cell_type": "code",
   "execution_count": 2,
   "metadata": {},
   "outputs": [],
   "source": [
    "with open('data/fra.txt', 'r', encoding='utf-8') as f:\n",
    "    lines = f.read().split('\\n')"
   ]
  },
  {
   "cell_type": "code",
   "execution_count": 3,
   "metadata": {},
   "outputs": [],
   "source": [
    "# Create empty vectors.\n",
    "input_texts = [] # all input English sequences\n",
    "target_texts = [] # all output French sequences\n",
    "input_characters = set() # Keep the unique English characters in Input Sequence\n",
    "target_characters = set() # Keep the unique French characters in Output Sequence\n",
    "\n",
    "# Choose only the first 10,000 lines\n",
    "num_samples = 10000\n",
    "\n",
    "for line in lines[: min(num_samples, len(lines) - 1)]:\n",
    "    # Parse the English and French sequences from lines\n",
    "    input_text, target_text = line.split('\\t')\n",
    "    # We use \"tab\" as the \"start sequence\" character for the targets, and \"\\n\" as \"end sequence\" character.\n",
    "    target_text = '\\t' + target_text + '\\n'\n",
    "    \n",
    "    # Store sequences in vectors\n",
    "    input_texts.append(input_text)\n",
    "    target_texts.append(target_text)\n",
    "    \n",
    "    # Store the unique characters\n",
    "    for char in input_text:\n",
    "        if char not in input_characters:\n",
    "            input_characters.add(char)\n",
    "    for char in target_text:\n",
    "        if char not in target_characters:\n",
    "            target_characters.add(char)"
   ]
  },
  {
   "cell_type": "markdown",
   "metadata": {},
   "source": [
    "## Data Analysis"
   ]
  },
  {
   "cell_type": "code",
   "execution_count": 4,
   "metadata": {},
   "outputs": [
    {
     "name": "stdout",
     "output_type": "stream",
     "text": [
      "Unique English Characters:\n",
      " [' ', '!', '$', '%', '&', \"'\", ',', '-', '.', '0', '1', '2', '3', '4', '5', '6', '7', '8', '9', ':', '?', 'A', 'B', 'C', 'D', 'E', 'F', 'G', 'H', 'I', 'J', 'K', 'L', 'M', 'N', 'O', 'P', 'Q', 'R', 'S', 'T', 'U', 'V', 'W', 'Y', 'a', 'b', 'c', 'd', 'e', 'f', 'g', 'h', 'i', 'j', 'k', 'l', 'm', 'n', 'o', 'p', 'q', 'r', 's', 't', 'u', 'v', 'w', 'x', 'y', 'z']\n",
      "Unique French Characters:\n",
      " ['\\t', '\\n', ' ', '!', '$', '%', '&', \"'\", '(', ')', ',', '-', '.', '0', '1', '3', '5', '6', '8', '9', ':', '?', 'A', 'B', 'C', 'D', 'E', 'F', 'G', 'H', 'I', 'J', 'K', 'L', 'M', 'N', 'O', 'P', 'Q', 'R', 'S', 'T', 'U', 'V', 'Y', 'a', 'b', 'c', 'd', 'e', 'f', 'g', 'h', 'i', 'j', 'k', 'l', 'm', 'n', 'o', 'p', 'q', 'r', 's', 't', 'u', 'v', 'w', 'x', 'y', 'z', '\\xa0', '«', '»', 'À', 'Ç', 'É', 'Ê', 'à', 'â', 'ç', 'è', 'é', 'ê', 'ë', 'î', 'ï', 'ô', 'ù', 'û', 'œ', '\\u2009', '’', '\\u202f']\n",
      "Number of Unique English Characters:\n",
      " 71\n",
      "Number of Unique French Characters:\n",
      " 94\n",
      "The max length of English sequence: 16\n",
      "The max length of French sequence: 59\n"
     ]
    }
   ],
   "source": [
    "# Sort the unique English and French characters\n",
    "input_characters = sorted(list(input_characters))\n",
    "print(\"Unique English Characters:\\n {}\".format(input_characters))\n",
    "target_characters = sorted(list(target_characters))\n",
    "print(\"Unique French Characters:\\n {}\".format(target_characters))\n",
    "\n",
    "# The length of unique English characters\n",
    "num_encoder_tokens = len(input_characters)\n",
    "print(\"Number of Unique English Characters:\\n {}\".format(num_encoder_tokens))\n",
    "# The length of unique French characters\n",
    "num_decoder_tokens = len(target_characters)\n",
    "print(\"Number of Unique French Characters:\\n {}\".format(num_decoder_tokens))\n",
    "\n",
    "# The length of max English sequence\n",
    "max_encoder_seq_length = max([len(txt) for txt in input_texts])\n",
    "print(\"The max length of English sequence: {}\".format(max_encoder_seq_length))\n",
    "\n",
    "# The length of max English sequence\n",
    "max_decoder_seq_length = max([len(txt) for txt in target_texts])\n",
    "print(\"The max length of French sequence: {}\".format(max_decoder_seq_length))"
   ]
  },
  {
   "cell_type": "markdown",
   "metadata": {},
   "source": [
    "# Vectorization"
   ]
  },
  {
   "cell_type": "markdown",
   "metadata": {},
   "source": [
    "## Build Dictionaries for English and French Characters"
   ]
  },
  {
   "cell_type": "code",
   "execution_count": 5,
   "metadata": {},
   "outputs": [
    {
     "name": "stdout",
     "output_type": "stream",
     "text": [
      "English character and index dictioary:\n",
      " {' ': 0, '!': 1, '$': 2, '%': 3, '&': 4, \"'\": 5, ',': 6, '-': 7, '.': 8, '0': 9, '1': 10, '2': 11, '3': 12, '4': 13, '5': 14, '6': 15, '7': 16, '8': 17, '9': 18, ':': 19, '?': 20, 'A': 21, 'B': 22, 'C': 23, 'D': 24, 'E': 25, 'F': 26, 'G': 27, 'H': 28, 'I': 29, 'J': 30, 'K': 31, 'L': 32, 'M': 33, 'N': 34, 'O': 35, 'P': 36, 'Q': 37, 'R': 38, 'S': 39, 'T': 40, 'U': 41, 'V': 42, 'W': 43, 'Y': 44, 'a': 45, 'b': 46, 'c': 47, 'd': 48, 'e': 49, 'f': 50, 'g': 51, 'h': 52, 'i': 53, 'j': 54, 'k': 55, 'l': 56, 'm': 57, 'n': 58, 'o': 59, 'p': 60, 'q': 61, 'r': 62, 's': 63, 't': 64, 'u': 65, 'v': 66, 'w': 67, 'x': 68, 'y': 69, 'z': 70}\n",
      "French character and index dictioary:\n",
      " {'\\t': 0, '\\n': 1, ' ': 2, '!': 3, '$': 4, '%': 5, '&': 6, \"'\": 7, '(': 8, ')': 9, ',': 10, '-': 11, '.': 12, '0': 13, '1': 14, '3': 15, '5': 16, '6': 17, '8': 18, '9': 19, ':': 20, '?': 21, 'A': 22, 'B': 23, 'C': 24, 'D': 25, 'E': 26, 'F': 27, 'G': 28, 'H': 29, 'I': 30, 'J': 31, 'K': 32, 'L': 33, 'M': 34, 'N': 35, 'O': 36, 'P': 37, 'Q': 38, 'R': 39, 'S': 40, 'T': 41, 'U': 42, 'V': 43, 'Y': 44, 'a': 45, 'b': 46, 'c': 47, 'd': 48, 'e': 49, 'f': 50, 'g': 51, 'h': 52, 'i': 53, 'j': 54, 'k': 55, 'l': 56, 'm': 57, 'n': 58, 'o': 59, 'p': 60, 'q': 61, 'r': 62, 's': 63, 't': 64, 'u': 65, 'v': 66, 'w': 67, 'x': 68, 'y': 69, 'z': 70, '\\xa0': 71, '«': 72, '»': 73, 'À': 74, 'Ç': 75, 'É': 76, 'Ê': 77, 'à': 78, 'â': 79, 'ç': 80, 'è': 81, 'é': 82, 'ê': 83, 'ë': 84, 'î': 85, 'ï': 86, 'ô': 87, 'ù': 88, 'û': 89, 'œ': 90, '\\u2009': 91, '’': 92, '\\u202f': 93}\n"
     ]
    }
   ],
   "source": [
    "input_token_index = dict(\n",
    "    [(char, i) for i, char in enumerate(input_characters)]\n",
    ")\n",
    "print(\"English character and index dictioary:\\n {}\".format(input_token_index))\n",
    "\n",
    "target_token_index = dict(\n",
    "    [(char, i) for i, char in enumerate(target_characters)]\n",
    ")\n",
    "print(\"French character and index dictioary:\\n {}\".format(target_token_index))"
   ]
  },
  {
   "cell_type": "markdown",
   "metadata": {},
   "source": [
    "## Initialize tensors for model inputs and targets"
   ]
  },
  {
   "cell_type": "code",
   "execution_count": 6,
   "metadata": {},
   "outputs": [],
   "source": [
    "# English sentence\n",
    "encoder_input_data = np.zeros(\n",
    "    (len(input_texts), \n",
    "     max_encoder_seq_length, \n",
    "     num_encoder_tokens),\n",
    "    dtype='float32'\n",
    ")\n",
    "\n",
    "# Encoder internal states\n",
    "decoder_input_data = np.zeros(\n",
    "    (len(input_texts), \n",
    "     max_decoder_seq_length, \n",
    "     num_decoder_tokens),\n",
    "    dtype='float32'\n",
    ")\n",
    "# French sentence\n",
    "decoder_target_data = np.zeros(\n",
    "    (len(input_texts), \n",
    "     max_decoder_seq_length, \n",
    "     num_decoder_tokens),\n",
    "    dtype='float32'\n",
    ")"
   ]
  },
  {
   "cell_type": "markdown",
   "metadata": {},
   "source": [
    "## One-hot Encoding for inputs and target dataset"
   ]
  },
  {
   "cell_type": "code",
   "execution_count": 7,
   "metadata": {},
   "outputs": [],
   "source": [
    "for i, (input_text, target_text) in enumerate(zip(input_texts, target_texts)):\n",
    "    \n",
    "    # i is the index of a line (English and French pair)\n",
    "    # t is the index of char in a sentence, and represents the time step\n",
    "    for t, char in enumerate(input_text):\n",
    "        encoder_input_data[i, t, input_token_index[char]] = 1.\n",
    "    \n",
    "    for t, char in enumerate(target_text):\n",
    "        \n",
    "        decoder_input_data[i, t, target_token_index[char]] = 1.\n",
    "        if t > 0:\n",
    "            # decoder_target_data will be ahead by one timestep, and will not include the start character.\n",
    "            decoder_target_data[i, t - 1, target_token_index[char]] = 1.\n",
    "            "
   ]
  },
  {
   "cell_type": "markdown",
   "metadata": {},
   "source": [
    "## Training Mode: Construct the Encoder-Decoder Neural Network by Keras Functional API\n",
    "\n",
    "The units in LSTM layers represent the latent dimensions.\n",
    "\n",
    "The number of units in Encoder layer is the same as the number of units in Decoder layer."
   ]
  },
  {
   "cell_type": "markdown",
   "metadata": {},
   "source": [
    "## Encoder LSTM Layer"
   ]
  },
  {
   "cell_type": "code",
   "execution_count": 8,
   "metadata": {},
   "outputs": [],
   "source": [
    "num_units = 256\n",
    "\n",
    "encoder_inputs = Input(shape=(None, num_encoder_tokens))\n",
    "encoder_outputs, state_h, state_c = LSTM(num_units, return_state=True)(encoder_inputs)\n",
    "# We discard `encoder_outputs` and only keep the states.\n",
    "encoder_states = [state_h, state_c]"
   ]
  },
  {
   "cell_type": "markdown",
   "metadata": {},
   "source": [
    "## Decoder LSTM Layer"
   ]
  },
  {
   "cell_type": "code",
   "execution_count": 9,
   "metadata": {},
   "outputs": [],
   "source": [
    "# Set up the decoder, using `encoder_states` as initial state.\n",
    "decoder_inputs = Input(shape=(None, num_decoder_tokens))\n",
    "# We set up our decoder to return full output sequences. We don't use the\n",
    "# return states in the training model, but we will use them in inference.\n",
    "decoder_lstm = LSTM(num_units, return_sequences=True, return_state=True)\n",
    "decoder_outputs, _, _ = decoder_lstm(decoder_inputs, initial_state=encoder_states)\n",
    "\n",
    "decoder_dense = Dense(num_decoder_tokens, activation='softmax')\n",
    "decoder_outputs = decoder_dense(decoder_outputs)"
   ]
  },
  {
   "cell_type": "code",
   "execution_count": 10,
   "metadata": {},
   "outputs": [],
   "source": [
    "# Define the model that will turn `encoder_input_data` & `decoder_input_data` into `decoder_target_data`\n",
    "model = Model([encoder_inputs, decoder_inputs], decoder_outputs)"
   ]
  },
  {
   "cell_type": "code",
   "execution_count": 11,
   "metadata": {},
   "outputs": [
    {
     "name": "stdout",
     "output_type": "stream",
     "text": [
      "Train on 8000 samples, validate on 2000 samples\n",
      "Epoch 1/100\n",
      "8000/8000 [==============================] - 20s 3ms/step - loss: 0.9672 - val_loss: 1.0267\n",
      "Epoch 2/100\n",
      "8000/8000 [==============================] - 14s 2ms/step - loss: 0.7649 - val_loss: 0.8263\n",
      "Epoch 3/100\n",
      "8000/8000 [==============================] - 14s 2ms/step - loss: 0.6475 - val_loss: 0.7347\n",
      "Epoch 4/100\n",
      "8000/8000 [==============================] - 14s 2ms/step - loss: 0.5878 - val_loss: 0.6831\n",
      "Epoch 5/100\n",
      "8000/8000 [==============================] - 14s 2ms/step - loss: 0.5492 - val_loss: 0.6570\n",
      "Epoch 6/100\n",
      "8000/8000 [==============================] - 14s 2ms/step - loss: 0.5219 - val_loss: 0.6246\n",
      "Epoch 7/100\n",
      "8000/8000 [==============================] - 14s 2ms/step - loss: 0.4999 - val_loss: 0.6043\n",
      "Epoch 8/100\n",
      "8000/8000 [==============================] - 14s 2ms/step - loss: 0.4798 - val_loss: 0.5877\n",
      "Epoch 9/100\n",
      "8000/8000 [==============================] - 14s 2ms/step - loss: 0.4633 - val_loss: 0.5678\n",
      "Epoch 10/100\n",
      "8000/8000 [==============================] - 14s 2ms/step - loss: 0.4472 - val_loss: 0.5589\n",
      "Epoch 11/100\n",
      "8000/8000 [==============================] - 14s 2ms/step - loss: 0.4324 - val_loss: 0.5454\n",
      "Epoch 12/100\n",
      "8000/8000 [==============================] - 14s 2ms/step - loss: 0.4191 - val_loss: 0.5328\n",
      "Epoch 13/100\n",
      "8000/8000 [==============================] - 14s 2ms/step - loss: 0.4077 - val_loss: 0.5301\n",
      "Epoch 14/100\n",
      "8000/8000 [==============================] - 14s 2ms/step - loss: 0.3961 - val_loss: 0.5163\n",
      "Epoch 15/100\n",
      "8000/8000 [==============================] - 14s 2ms/step - loss: 0.3848 - val_loss: 0.5106\n",
      "Epoch 16/100\n",
      "8000/8000 [==============================] - 14s 2ms/step - loss: 0.3749 - val_loss: 0.5041\n",
      "Epoch 17/100\n",
      "8000/8000 [==============================] - 14s 2ms/step - loss: 0.3649 - val_loss: 0.4952\n",
      "Epoch 18/100\n",
      "8000/8000 [==============================] - 14s 2ms/step - loss: 0.3562 - val_loss: 0.4910\n",
      "Epoch 19/100\n",
      "8000/8000 [==============================] - 14s 2ms/step - loss: 0.3472 - val_loss: 0.4854\n",
      "Epoch 20/100\n",
      "8000/8000 [==============================] - 14s 2ms/step - loss: 0.3383 - val_loss: 0.4811\n",
      "Epoch 21/100\n",
      "8000/8000 [==============================] - 14s 2ms/step - loss: 0.3314 - val_loss: 0.4766\n",
      "Epoch 22/100\n",
      "8000/8000 [==============================] - 14s 2ms/step - loss: 0.3226 - val_loss: 0.4736\n",
      "Epoch 23/100\n",
      "8000/8000 [==============================] - 14s 2ms/step - loss: 0.3150 - val_loss: 0.4719\n",
      "Epoch 24/100\n",
      "8000/8000 [==============================] - 14s 2ms/step - loss: 0.3081 - val_loss: 0.4648\n",
      "Epoch 25/100\n",
      "8000/8000 [==============================] - 14s 2ms/step - loss: 0.2998 - val_loss: 0.4628\n",
      "Epoch 26/100\n",
      "8000/8000 [==============================] - 14s 2ms/step - loss: 0.2931 - val_loss: 0.4660\n",
      "Epoch 27/100\n",
      "8000/8000 [==============================] - 14s 2ms/step - loss: 0.2869 - val_loss: 0.4618\n",
      "Epoch 28/100\n",
      "8000/8000 [==============================] - 14s 2ms/step - loss: 0.2809 - val_loss: 0.4586\n",
      "Epoch 29/100\n",
      "8000/8000 [==============================] - 14s 2ms/step - loss: 0.2743 - val_loss: 0.4606\n",
      "Epoch 30/100\n",
      "8000/8000 [==============================] - 14s 2ms/step - loss: 0.2672 - val_loss: 0.4583\n",
      "Epoch 31/100\n",
      "8000/8000 [==============================] - 14s 2ms/step - loss: 0.2614 - val_loss: 0.4598\n",
      "Epoch 32/100\n",
      "8000/8000 [==============================] - 14s 2ms/step - loss: 0.2552 - val_loss: 0.4590\n",
      "Epoch 33/100\n",
      "8000/8000 [==============================] - 14s 2ms/step - loss: 0.2501 - val_loss: 0.4610\n",
      "Epoch 34/100\n",
      "8000/8000 [==============================] - 14s 2ms/step - loss: 0.2431 - val_loss: 0.4648\n",
      "Epoch 35/100\n",
      "8000/8000 [==============================] - 14s 2ms/step - loss: 0.2383 - val_loss: 0.4609\n",
      "Epoch 36/100\n",
      "8000/8000 [==============================] - 14s 2ms/step - loss: 0.2327 - val_loss: 0.4620\n",
      "Epoch 37/100\n",
      "8000/8000 [==============================] - 14s 2ms/step - loss: 0.2284 - val_loss: 0.4655\n",
      "Epoch 38/100\n",
      "8000/8000 [==============================] - 14s 2ms/step - loss: 0.2231 - val_loss: 0.4685\n",
      "Epoch 39/100\n",
      "8000/8000 [==============================] - 14s 2ms/step - loss: 0.2176 - val_loss: 0.4699\n",
      "Epoch 40/100\n",
      "8000/8000 [==============================] - 14s 2ms/step - loss: 0.2128 - val_loss: 0.4743\n",
      "Epoch 41/100\n",
      "8000/8000 [==============================] - 14s 2ms/step - loss: 0.2082 - val_loss: 0.4726\n",
      "Epoch 42/100\n",
      "8000/8000 [==============================] - 14s 2ms/step - loss: 0.2045 - val_loss: 0.4801\n",
      "Epoch 43/100\n",
      "8000/8000 [==============================] - 14s 2ms/step - loss: 0.1999 - val_loss: 0.4793\n",
      "Epoch 44/100\n",
      "8000/8000 [==============================] - 14s 2ms/step - loss: 0.1958 - val_loss: 0.4818\n",
      "Epoch 45/100\n",
      "8000/8000 [==============================] - 14s 2ms/step - loss: 0.1906 - val_loss: 0.4834\n",
      "Epoch 46/100\n",
      "8000/8000 [==============================] - 14s 2ms/step - loss: 0.1873 - val_loss: 0.4899\n",
      "Epoch 47/100\n",
      "8000/8000 [==============================] - 14s 2ms/step - loss: 0.1828 - val_loss: 0.4917\n",
      "Epoch 48/100\n",
      "8000/8000 [==============================] - 14s 2ms/step - loss: 0.1797 - val_loss: 0.4915\n",
      "Epoch 49/100\n",
      "8000/8000 [==============================] - 14s 2ms/step - loss: 0.1761 - val_loss: 0.4956\n",
      "Epoch 50/100\n",
      "8000/8000 [==============================] - 14s 2ms/step - loss: 0.1720 - val_loss: 0.4984\n",
      "Epoch 51/100\n",
      "8000/8000 [==============================] - 14s 2ms/step - loss: 0.1686 - val_loss: 0.5069\n",
      "Epoch 52/100\n",
      "8000/8000 [==============================] - 14s 2ms/step - loss: 0.1651 - val_loss: 0.5052\n",
      "Epoch 53/100\n",
      "8000/8000 [==============================] - 14s 2ms/step - loss: 0.1625 - val_loss: 0.5095\n",
      "Epoch 54/100\n",
      "8000/8000 [==============================] - 14s 2ms/step - loss: 0.1585 - val_loss: 0.5129\n",
      "Epoch 55/100\n",
      "8000/8000 [==============================] - 14s 2ms/step - loss: 0.1556 - val_loss: 0.5141\n",
      "Epoch 56/100\n",
      "8000/8000 [==============================] - 14s 2ms/step - loss: 0.1526 - val_loss: 0.5186\n",
      "Epoch 57/100\n",
      "8000/8000 [==============================] - 14s 2ms/step - loss: 0.1494 - val_loss: 0.5262\n",
      "Epoch 58/100\n",
      "8000/8000 [==============================] - 14s 2ms/step - loss: 0.1473 - val_loss: 0.5335\n",
      "Epoch 59/100\n",
      "8000/8000 [==============================] - 14s 2ms/step - loss: 0.1440 - val_loss: 0.5290\n",
      "Epoch 60/100\n",
      "8000/8000 [==============================] - 14s 2ms/step - loss: 0.1409 - val_loss: 0.5375\n",
      "Epoch 61/100\n",
      "8000/8000 [==============================] - 14s 2ms/step - loss: 0.1395 - val_loss: 0.5441\n",
      "Epoch 62/100\n",
      "8000/8000 [==============================] - 14s 2ms/step - loss: 0.1369 - val_loss: 0.5411\n",
      "Epoch 63/100\n",
      "8000/8000 [==============================] - 14s 2ms/step - loss: 0.1345 - val_loss: 0.5476\n",
      "Epoch 64/100\n",
      "8000/8000 [==============================] - 14s 2ms/step - loss: 0.1321 - val_loss: 0.5494\n",
      "Epoch 65/100\n",
      "8000/8000 [==============================] - 14s 2ms/step - loss: 0.1285 - val_loss: 0.5508\n",
      "Epoch 66/100\n",
      "8000/8000 [==============================] - 14s 2ms/step - loss: 0.1262 - val_loss: 0.5582\n",
      "Epoch 67/100\n",
      "8000/8000 [==============================] - 14s 2ms/step - loss: 0.1245 - val_loss: 0.5642\n",
      "Epoch 68/100\n",
      "8000/8000 [==============================] - 14s 2ms/step - loss: 0.1223 - val_loss: 0.5692\n",
      "Epoch 69/100\n",
      "8000/8000 [==============================] - 14s 2ms/step - loss: 0.1213 - val_loss: 0.5672\n",
      "Epoch 70/100\n",
      "8000/8000 [==============================] - 14s 2ms/step - loss: 0.1183 - val_loss: 0.5761\n",
      "Epoch 71/100\n",
      "8000/8000 [==============================] - 14s 2ms/step - loss: 0.1171 - val_loss: 0.5790\n",
      "Epoch 72/100\n",
      "8000/8000 [==============================] - 14s 2ms/step - loss: 0.1148 - val_loss: 0.5802\n",
      "Epoch 73/100\n",
      "8000/8000 [==============================] - 14s 2ms/step - loss: 0.1131 - val_loss: 0.5858\n",
      "Epoch 74/100\n",
      "8000/8000 [==============================] - 14s 2ms/step - loss: 0.1101 - val_loss: 0.5894\n",
      "Epoch 75/100\n",
      "8000/8000 [==============================] - 14s 2ms/step - loss: 0.1083 - val_loss: 0.5943\n",
      "Epoch 76/100\n",
      "8000/8000 [==============================] - 14s 2ms/step - loss: 0.1071 - val_loss: 0.5974\n",
      "Epoch 77/100\n",
      "8000/8000 [==============================] - 14s 2ms/step - loss: 0.1060 - val_loss: 0.6034\n",
      "Epoch 78/100\n",
      "8000/8000 [==============================] - 14s 2ms/step - loss: 0.1049 - val_loss: 0.6011\n",
      "Epoch 79/100\n",
      "8000/8000 [==============================] - 14s 2ms/step - loss: 0.1030 - val_loss: 0.6081\n",
      "Epoch 80/100\n",
      "8000/8000 [==============================] - 14s 2ms/step - loss: 0.1009 - val_loss: 0.6140\n",
      "Epoch 81/100\n",
      "8000/8000 [==============================] - 14s 2ms/step - loss: 0.0986 - val_loss: 0.6180\n",
      "Epoch 82/100\n",
      "8000/8000 [==============================] - 14s 2ms/step - loss: 0.0968 - val_loss: 0.6180\n",
      "Epoch 83/100\n",
      "8000/8000 [==============================] - 14s 2ms/step - loss: 0.0963 - val_loss: 0.6225\n",
      "Epoch 84/100\n",
      "8000/8000 [==============================] - 14s 2ms/step - loss: 0.0953 - val_loss: 0.6252\n",
      "Epoch 85/100\n",
      "8000/8000 [==============================] - 14s 2ms/step - loss: 0.0939 - val_loss: 0.6291\n",
      "Epoch 86/100\n",
      "8000/8000 [==============================] - 14s 2ms/step - loss: 0.0923 - val_loss: 0.6341\n",
      "Epoch 87/100\n",
      "8000/8000 [==============================] - 14s 2ms/step - loss: 0.0900 - val_loss: 0.6380\n",
      "Epoch 88/100\n",
      "8000/8000 [==============================] - 14s 2ms/step - loss: 0.0893 - val_loss: 0.6422\n",
      "Epoch 89/100\n",
      "8000/8000 [==============================] - 14s 2ms/step - loss: 0.0886 - val_loss: 0.6414\n",
      "Epoch 90/100\n",
      "8000/8000 [==============================] - 14s 2ms/step - loss: 0.0868 - val_loss: 0.6512\n",
      "Epoch 91/100\n",
      "8000/8000 [==============================] - 14s 2ms/step - loss: 0.0853 - val_loss: 0.6528\n",
      "Epoch 92/100\n",
      "8000/8000 [==============================] - 14s 2ms/step - loss: 0.0841 - val_loss: 0.6535\n",
      "Epoch 93/100\n",
      "8000/8000 [==============================] - 14s 2ms/step - loss: 0.0830 - val_loss: 0.6611\n",
      "Epoch 94/100\n",
      "8000/8000 [==============================] - 14s 2ms/step - loss: 0.0816 - val_loss: 0.6630\n",
      "Epoch 95/100\n",
      "8000/8000 [==============================] - 14s 2ms/step - loss: 0.0811 - val_loss: 0.6708\n",
      "Epoch 96/100\n",
      "8000/8000 [==============================] - 14s 2ms/step - loss: 0.0800 - val_loss: 0.6664\n",
      "Epoch 97/100\n",
      "8000/8000 [==============================] - 14s 2ms/step - loss: 0.0785 - val_loss: 0.6719\n",
      "Epoch 98/100\n",
      "8000/8000 [==============================] - 14s 2ms/step - loss: 0.0773 - val_loss: 0.6730\n",
      "Epoch 99/100\n",
      "8000/8000 [==============================] - 14s 2ms/step - loss: 0.0759 - val_loss: 0.6789\n",
      "Epoch 100/100\n",
      "8000/8000 [==============================] - 14s 2ms/step - loss: 0.0753 - val_loss: 0.6840\n"
     ]
    },
    {
     "data": {
      "text/plain": [
       "<keras.callbacks.History at 0x7f63aa50fb00>"
      ]
     },
     "execution_count": 11,
     "metadata": {},
     "output_type": "execute_result"
    }
   ],
   "source": [
    "# Run training\n",
    "model.compile(optimizer='adam', loss='categorical_crossentropy')\n",
    "model.fit([encoder_input_data, decoder_input_data], \n",
    "          decoder_target_data,\n",
    "          batch_size=64,\n",
    "          epochs=100,\n",
    "          validation_split=0.2\n",
    "         )"
   ]
  },
  {
   "cell_type": "code",
   "execution_count": 12,
   "metadata": {},
   "outputs": [
    {
     "name": "stderr",
     "output_type": "stream",
     "text": [
      "/home/ubuntu/anaconda/envs/py36-venv/lib/python3.6/site-packages/keras/engine/network.py:888: UserWarning: Layer lstm_2 was passed non-serializable keyword arguments: {'initial_state': [<tf.Tensor 'lstm_1/while/Exit_2:0' shape=(?, 256) dtype=float32>, <tf.Tensor 'lstm_1/while/Exit_3:0' shape=(?, 256) dtype=float32>]}. They will not be included in the serialized model (and thus will be missing at deserialization time).\n",
      "  '. They will not be included '\n"
     ]
    },
    {
     "data": {
      "image/png": "[encoded data removed]",
      "text/plain": [
       "<IPython.core.display.Image object>"
      ]
     },
     "execution_count": 12,
     "metadata": {},
     "output_type": "execute_result"
    }
   ],
   "source": [
    "# plot and save the model\n",
    "from keras.utils.vis_utils import plot_model\n",
    "from IPython.display import Image\n",
    "\n",
    "plot_model(model, to_file='models/s2s_arch.png', show_shapes=True)\n",
    "\n",
    "model.save('models/s2s.h5')\n",
    "Image('models/s2s_arch.png')"
   ]
  },
  {
   "cell_type": "markdown",
   "metadata": {},
   "source": [
    "## Inference Mode: Apply Trained Model for Sequence Predictions\n",
    "The model defined for training has learned weights for this operation, but the structure of the model is not designed \n",
    "to be called recursively to generate one character at a time.\n",
    "\n",
    "Instead, new models are required for the prediction step, specifically a model for encoding English input sequences of characters and a model that takes the sequence of French characters generated so far and the encoding as input and predicts the next character in the sequence."
   ]
  },
  {
   "cell_type": "code",
   "execution_count": 14,
   "metadata": {},
   "outputs": [],
   "source": [
    "# Define the encoder inference model\n",
    "inference_encoder_model = Model(encoder_inputs, encoder_states)\n",
    "\n",
    "# Define the decoder inference model\n",
    "decoder_state_input_h = Input(shape=(num_units,))\n",
    "decoder_state_input_c = Input(shape=(num_units,))\n",
    "decoder_states_inputs = [decoder_state_input_h, decoder_state_input_c]\n",
    "\n",
    "decoder_outputs, state_h, state_c = decoder_lstm(decoder_inputs, initial_state=decoder_states_inputs)\n",
    "\n",
    "decoder_states = [state_h, state_c]\n",
    "decoder_outputs = decoder_dense(decoder_outputs)\n",
    "# The internal states and output of decoder will be rejected in the next recursive call.\n",
    "inference_decoder_model = Model([decoder_inputs] + decoder_states_inputs, [decoder_outputs] + decoder_states)"
   ]
  },
  {
   "cell_type": "code",
   "execution_count": 15,
   "metadata": {},
   "outputs": [
    {
     "data": {
      "image/png": "[encoded data removed]",
      "text/plain": [
       "<IPython.core.display.Image object>"
      ]
     },
     "execution_count": 15,
     "metadata": {},
     "output_type": "execute_result"
    }
   ],
   "source": [
    "plot_model(inference_encoder_model, to_file='models/encoder_model.png', show_shapes=True)\n",
    "plot_model(inference_decoder_model, to_file='models/decoder_model.png', show_shapes=True)\n",
    "\n",
    "Image('models/encoder_model.png')\n"
   ]
  },
  {
   "cell_type": "code",
   "execution_count": 16,
   "metadata": {},
   "outputs": [
    {
     "data": {
      "image/png": "[encoded data removed]",
      "text/plain": [
       "<IPython.core.display.Image object>"
      ]
     },
     "execution_count": 16,
     "metadata": {},
     "output_type": "execute_result"
    }
   ],
   "source": [
    "Image('models/decoder_model.png')"
   ]
  },
  {
   "cell_type": "markdown",
   "metadata": {},
   "source": [
    "## Build a Reverse-lookup (index, token) dictionary to decode index back to char."
   ]
  },
  {
   "cell_type": "code",
   "execution_count": 17,
   "metadata": {},
   "outputs": [],
   "source": [
    "reverse_input_char_index = dict(\n",
    "    (i, char) for char, i in input_token_index.items()\n",
    ")\n",
    "\n",
    "reverse_target_char_index = dict(\n",
    "    (i, char) for char, i in target_token_index.items()\n",
    ")\n"
   ]
  },
  {
   "cell_type": "markdown",
   "metadata": {},
   "source": [
    "## Translate an English sequence to French"
   ]
  },
  {
   "cell_type": "code",
   "execution_count": 18,
   "metadata": {},
   "outputs": [],
   "source": [
    "def decode_sequence(input_seq):\n",
    "    # Encode the input sequence as state vectors.\n",
    "    states_value = inference_encoder_model.predict(input_seq)\n",
    "\n",
    "    # Generate empty target sequence of length 1.\n",
    "    target_seq = np.zeros((1, 1, num_decoder_tokens))\n",
    "    # Populate the first character of target sequence with the start Tab.\n",
    "    target_seq[0, 0, target_token_index['\\t']] = 1.\n",
    "\n",
    "    # Sampling loop for a batch of sequences\n",
    "    stop_condition = False\n",
    "    decoded_sentence = ''\n",
    "    while not stop_condition:\n",
    "        \n",
    "        output_tokens, h, c = inference_decoder_model.predict([target_seq] + states_value)\n",
    "\n",
    "        # Predict the next char\n",
    "        sampled_token_index = np.argmax(output_tokens[0, -1, :])\n",
    "        # Lookup char based on index from dictionary\n",
    "        sampled_char = reverse_target_char_index[sampled_token_index]\n",
    "        # Append a new char in the output sentence\n",
    "        decoded_sentence += sampled_char\n",
    "\n",
    "        # Exit condition\n",
    "        if (sampled_char == '\\n' or len(decoded_sentence) > max_decoder_seq_length):\n",
    "            stop_condition = True\n",
    "\n",
    "        # Update the target sequence (of length 1).\n",
    "        target_seq = np.zeros((1, 1, num_decoder_tokens))\n",
    "        target_seq[0, 0, sampled_token_index] = 1.\n",
    "\n",
    "        # Update states\n",
    "        states_value = [h, c]\n",
    "\n",
    "    return decoded_sentence\n"
   ]
  },
  {
   "cell_type": "code",
   "execution_count": 42,
   "metadata": {},
   "outputs": [
    {
     "name": "stdout",
     "output_type": "stream",
     "text": [
      "Translated French sentence: Bonne journée à vous !\n",
      "\n"
     ]
    }
   ],
   "source": [
    "test_english_text = \"Enjoy your day.\"\n",
    "# Vectorize the test sequence.\n",
    "vectorized_text = np.zeros(\n",
    "    (1, max_encoder_seq_length, num_encoder_tokens),\n",
    "    dtype='float32'\n",
    ")\n",
    "for t, char in enumerate(input_text):\n",
    "    vectorized_text[0, t, input_token_index[char]] = 1.\n",
    "\n",
    "print('Translated French sentence:', decode_sequence(vectorized_text))"
   ]
  }
 ],
 "metadata": {
  "kernelspec": {
   "display_name": "Python 3",
   "language": "python",
   "name": "python3"
  },
  "language_info": {
   "codemirror_mode": {
    "name": "ipython",
    "version": 3
   },
   "file_extension": ".py",
   "mimetype": "text/x-python",
   "name": "python",
   "nbconvert_exporter": "python",
   "pygments_lexer": "ipython3",
   "version": "3.6.5"
  }
 },
 "nbformat": 4,
 "nbformat_minor": 2
}
